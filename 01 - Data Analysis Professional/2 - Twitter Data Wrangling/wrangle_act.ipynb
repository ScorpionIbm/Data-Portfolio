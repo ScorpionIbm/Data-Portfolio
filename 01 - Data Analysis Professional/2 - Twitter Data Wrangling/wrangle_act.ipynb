{
 "cells": [
  {
   "cell_type": "markdown",
   "metadata": {},
   "source": [
    "# Table of Contents"
   ]
  },
  {
   "cell_type": "markdown",
   "metadata": {},
   "source": [
    "1- [Package Imports](#package-imports)  \n",
    "2- [Function Definitions](#function-definitions)  \n",
    "3- [Variable Definitions](#variable-definitions)  \n",
    "4- [Wrangling](#wrangling)  \n",
    "&emsp;&emsp;   4.1. [Gather and Load Data](#gather)  \n",
    "&emsp;&emsp;   4.2. [Assessment](#assess)  \n",
    "&emsp;&emsp;   4.3. [Cleaning](#clean)  \n",
    "&emsp;&emsp;&emsp;&emsp;   4.3.1. [Define](#define)  \n",
    "&emsp;&emsp;&emsp;&emsp;   4.3.2. [Code and Test](#code)  \n",
    "5- [Visualizations](#visualization)  "
   ]
  },
  {
   "cell_type": "markdown",
   "metadata": {},
   "source": [
    "# Package Imports<a name=\"package-imports\"></a>"
   ]
  },
  {
   "cell_type": "code",
   "execution_count": 1,
   "metadata": {},
   "outputs": [],
   "source": [
    "#imports\n",
    "import os\n",
    "import requests\n",
    "import json\n",
    "import tweepy\n",
    "import pickle\n",
    "import pandas as pd\n",
    "import matplotlib.pyplot as plt\n",
    "%matplotlib inline\n",
    "from PIL import Image\n",
    "from io import BytesIO"
   ]
  },
  {
   "cell_type": "markdown",
   "metadata": {},
   "source": [
    "# Function Definitions<a name=\"function-definitions\"></a>"
   ]
  },
  {
   "cell_type": "code",
   "execution_count": 2,
   "metadata": {},
   "outputs": [],
   "source": [
    "def initiate_api(consumer_key, consumer_secret, access_token, access_secret):\n",
    "    \"\"\"\n",
    "    take the keys and secrets as input to initiate the twitter api\n",
    "    \"\"\"\n",
    "    #run api with tokens given to function\n",
    "    auth = tweepy.OAuthHandler(consumer_key, consumer_secret)\n",
    "    auth.set_access_token(access_token, access_secret)\n",
    "    api = tweepy.API(auth, wait_on_rate_limit=True, wait_on_rate_limit_notify=True)\n",
    "    return api\n",
    "\n",
    "def capture_tweets(id_list, json_path, exceptions_path):\n",
    "    \"\"\"\n",
    "    - Take a list of tweet ids to iterate through and a path to a JSON file to save tweets\n",
    "    - Returns a list of exceptions and tweet ids that failed to be captured\n",
    "    \"\"\"\n",
    "    if not os.path.exists(json_path):\n",
    "        with open(json_path, mode='w') as output:\n",
    "            exceptions_list=[]\n",
    "            i=0\n",
    "            for id in id_list:\n",
    "                i+=1\n",
    "                retry=0\n",
    "                while True:\n",
    "                    try:\n",
    "                        tweet = api.get_status(id, tweet_mode='extended')\n",
    "                        json.dump(tweet._json, output)\n",
    "                        output.write('\\n')\n",
    "                        print(f'{i}: Tweet id {id} captured')\n",
    "                        break\n",
    "                    except tweepy.TweepError as e:\n",
    "                        message = e.reason\n",
    "                        if e.api_code == 144:\n",
    "                            exceptions_list.append({'id':id,'message':message})\n",
    "                            print(f'{i}: No tweet found with that ID:{id}')\n",
    "                            break\n",
    "                        elif e.api_code == 179:\n",
    "                            exceptions_list.append({'id':id,'message':message})\n",
    "                            print(f'{i}: Not authorized to capture tweet:{id}')\n",
    "                            break\n",
    "                        else:\n",
    "                            if retry == 0:\n",
    "                                print(f'{i}: Connection failed retrying to retrieve tweet: {id}')\n",
    "                                retry += 1\n",
    "                            elif retry <=10:\n",
    "                                print(f'retry no. {retry} for tweet id {id}')\n",
    "                                retry += 1\n",
    "                            else:\n",
    "                                exceptions_list.append({'id':id,'message':message})\n",
    "                                print(f'{i}: Error capturing tweet:{id} look for it in exceptions_list')\n",
    "                                break\n",
    "        #export variables to file\n",
    "        with open(exceptions_path, mode = 'wb') as exceptions:\n",
    "            pickle.dump(exceptions_list, exceptions)\n",
    "    else:\n",
    "        print('JSON already exists: Using existing file')\n",
    "        with open(exceptions_path, mode = 'rb') as exceptions:\n",
    "            exceptions_list = pickle.load(exceptions)\n",
    "    return exceptions_list\n",
    "\n",
    "def download_predictions(url, path):\n",
    "    \"\"\"\n",
    "    - Take predictions url to download and path of saved file as input\n",
    "    - Downloads the url data to given file\n",
    "    \"\"\"\n",
    "    if not os.path.exists(path):\n",
    "        r = requests.get(url)\n",
    "        #save predicitions to file\n",
    "        with open(path, mode='wb') as f:\n",
    "            f.write(r.content)\n",
    "    else:\n",
    "        print('Image predictions already exists: Using existing file')\n",
    "\n",
    "def load_archive(archive_path):\n",
    "    \"\"\"\n",
    "    take path as input to load enhanced twitter archive dataframe\n",
    "    \"\"\"\n",
    "    archive = pd.read_csv(archive_path)\n",
    "    return archive\n",
    "\n",
    "def load_data(json_path, image_path):\n",
    "    \"\"\"\n",
    "    take path as input to load enhanced twitter archive dataframe\n",
    "    \"\"\"\n",
    "    capture = pd.read_json(json_path, lines=True)\n",
    "    images = pd.read_csv(image_path, sep='\\t')\n",
    "    return capture, images\n"
   ]
  },
  {
   "cell_type": "code",
   "execution_count": 3,
   "metadata": {},
   "outputs": [],
   "source": [
    "# Access tokens to the twitter api (provide your own keys)\n",
    "consumer_key = API_key\n",
    "consumer_secret = API_secret\n",
    "access_token = access_token\n",
    "access_secret = access_secret"
   ]
  },
  {
   "cell_type": "markdown",
   "metadata": {},
   "source": [
    "# Variable Definitions <a name=\"variable-definitions\"></a>"
   ]
  },
  {
   "cell_type": "code",
   "execution_count": 4,
   "metadata": {},
   "outputs": [],
   "source": [
    "#Variables for image predictions datatype\n",
    "#image predictions link\n",
    "images_url = 'https://d17h27t6h515a5.cloudfront.net/topher/2017/August/599fd2ad_image-predictions/image-predictions.tsv'\n",
    "\n",
    "#define path variables\n",
    "#enhanced archive path\n",
    "archive_path = 'twitter-archive-enhanced.csv'\n",
    "#captured tweets data path\n",
    "json_path = 'tweet_json.txt'\n",
    "#image predictions path\n",
    "image_path = images_url.split('/')[-1]\n",
    "exceptions_path = 'exceptions'"
   ]
  },
  {
   "cell_type": "markdown",
   "metadata": {},
   "source": [
    "# Wrangling <a name=\"wrangling\"></a>"
   ]
  },
  {
   "cell_type": "markdown",
   "metadata": {},
   "source": [
    "## 1- Gather and Load Data<a name=\"gather\"></a>"
   ]
  },
  {
   "cell_type": "code",
   "execution_count": 5,
   "metadata": {},
   "outputs": [
    {
     "name": "stdout",
     "output_type": "stream",
     "text": [
      "Image predictions already exists: Using existing file\n",
      "JSON already exists: Using existing file\n"
     ]
    }
   ],
   "source": [
    "archive = load_archive(archive_path)\n",
    "download_predictions(images_url, image_path)\n",
    "api = initiate_api(consumer_key, consumer_secret, access_token, access_secret)\n",
    "exceptions_list = capture_tweets(archive.tweet_id, json_path, exceptions_path)\n",
    "capture,images = load_data(json_path, image_path)"
   ]
  },
  {
   "cell_type": "markdown",
   "metadata": {},
   "source": [
    "## 2- Assessment<a name=\"assess\"></a>"
   ]
  },
  {
   "cell_type": "code",
   "execution_count": 6,
   "metadata": {},
   "outputs": [
    {
     "data": {
      "text/html": [
       "<div>\n",
       "<style scoped>\n",
       "    .dataframe tbody tr th:only-of-type {\n",
       "        vertical-align: middle;\n",
       "    }\n",
       "\n",
       "    .dataframe tbody tr th {\n",
       "        vertical-align: top;\n",
       "    }\n",
       "\n",
       "    .dataframe thead th {\n",
       "        text-align: right;\n",
       "    }\n",
       "</style>\n",
       "<table border=\"1\" class=\"dataframe\">\n",
       "  <thead>\n",
       "    <tr style=\"text-align: right;\">\n",
       "      <th></th>\n",
       "      <th>tweet_id</th>\n",
       "      <th>in_reply_to_status_id</th>\n",
       "      <th>in_reply_to_user_id</th>\n",
       "      <th>timestamp</th>\n",
       "      <th>source</th>\n",
       "      <th>text</th>\n",
       "      <th>retweeted_status_id</th>\n",
       "      <th>retweeted_status_user_id</th>\n",
       "      <th>retweeted_status_timestamp</th>\n",
       "      <th>expanded_urls</th>\n",
       "      <th>rating_numerator</th>\n",
       "      <th>rating_denominator</th>\n",
       "      <th>name</th>\n",
       "      <th>doggo</th>\n",
       "      <th>floofer</th>\n",
       "      <th>pupper</th>\n",
       "      <th>puppo</th>\n",
       "    </tr>\n",
       "  </thead>\n",
       "  <tbody>\n",
       "    <tr>\n",
       "      <th>0</th>\n",
       "      <td>892420643555336193</td>\n",
       "      <td>NaN</td>\n",
       "      <td>NaN</td>\n",
       "      <td>2017-08-01 16:23:56 +0000</td>\n",
       "      <td>&lt;a href=\"http://twitter.com/download/iphone\" r...</td>\n",
       "      <td>This is Phineas. He's a mystical boy. Only eve...</td>\n",
       "      <td>NaN</td>\n",
       "      <td>NaN</td>\n",
       "      <td>NaN</td>\n",
       "      <td>https://twitter.com/dog_rates/status/892420643...</td>\n",
       "      <td>13</td>\n",
       "      <td>10</td>\n",
       "      <td>Phineas</td>\n",
       "      <td>None</td>\n",
       "      <td>None</td>\n",
       "      <td>None</td>\n",
       "      <td>None</td>\n",
       "    </tr>\n",
       "  </tbody>\n",
       "</table>\n",
       "</div>"
      ],
      "text/plain": [
       "             tweet_id  in_reply_to_status_id  in_reply_to_user_id  \\\n",
       "0  892420643555336193                    NaN                  NaN   \n",
       "\n",
       "                   timestamp  \\\n",
       "0  2017-08-01 16:23:56 +0000   \n",
       "\n",
       "                                              source  \\\n",
       "0  <a href=\"http://twitter.com/download/iphone\" r...   \n",
       "\n",
       "                                                text  retweeted_status_id  \\\n",
       "0  This is Phineas. He's a mystical boy. Only eve...                  NaN   \n",
       "\n",
       "   retweeted_status_user_id retweeted_status_timestamp  \\\n",
       "0                       NaN                        NaN   \n",
       "\n",
       "                                       expanded_urls  rating_numerator  \\\n",
       "0  https://twitter.com/dog_rates/status/892420643...                13   \n",
       "\n",
       "   rating_denominator     name doggo floofer pupper puppo  \n",
       "0                  10  Phineas  None    None   None  None  "
      ]
     },
     "execution_count": 6,
     "metadata": {},
     "output_type": "execute_result"
    }
   ],
   "source": [
    "archive.head(1)"
   ]
  },
  {
   "cell_type": "code",
   "execution_count": 7,
   "metadata": {},
   "outputs": [
    {
     "name": "stdout",
     "output_type": "stream",
     "text": [
      "<class 'pandas.core.frame.DataFrame'>\n",
      "RangeIndex: 2356 entries, 0 to 2355\n",
      "Data columns (total 17 columns):\n",
      " #   Column                      Non-Null Count  Dtype  \n",
      "---  ------                      --------------  -----  \n",
      " 0   tweet_id                    2356 non-null   int64  \n",
      " 1   in_reply_to_status_id       78 non-null     float64\n",
      " 2   in_reply_to_user_id         78 non-null     float64\n",
      " 3   timestamp                   2356 non-null   object \n",
      " 4   source                      2356 non-null   object \n",
      " 5   text                        2356 non-null   object \n",
      " 6   retweeted_status_id         181 non-null    float64\n",
      " 7   retweeted_status_user_id    181 non-null    float64\n",
      " 8   retweeted_status_timestamp  181 non-null    object \n",
      " 9   expanded_urls               2297 non-null   object \n",
      " 10  rating_numerator            2356 non-null   int64  \n",
      " 11  rating_denominator          2356 non-null   int64  \n",
      " 12  name                        2356 non-null   object \n",
      " 13  doggo                       2356 non-null   object \n",
      " 14  floofer                     2356 non-null   object \n",
      " 15  pupper                      2356 non-null   object \n",
      " 16  puppo                       2356 non-null   object \n",
      "dtypes: float64(4), int64(3), object(10)\n",
      "memory usage: 313.0+ KB\n"
     ]
    }
   ],
   "source": [
    "archive.info()"
   ]
  },
  {
   "cell_type": "code",
   "execution_count": 8,
   "metadata": {},
   "outputs": [
    {
     "data": {
      "text/html": [
       "<div>\n",
       "<style scoped>\n",
       "    .dataframe tbody tr th:only-of-type {\n",
       "        vertical-align: middle;\n",
       "    }\n",
       "\n",
       "    .dataframe tbody tr th {\n",
       "        vertical-align: top;\n",
       "    }\n",
       "\n",
       "    .dataframe thead th {\n",
       "        text-align: right;\n",
       "    }\n",
       "</style>\n",
       "<table border=\"1\" class=\"dataframe\">\n",
       "  <thead>\n",
       "    <tr style=\"text-align: right;\">\n",
       "      <th></th>\n",
       "      <th>created_at</th>\n",
       "      <th>id</th>\n",
       "      <th>id_str</th>\n",
       "      <th>full_text</th>\n",
       "      <th>truncated</th>\n",
       "      <th>display_text_range</th>\n",
       "      <th>entities</th>\n",
       "      <th>extended_entities</th>\n",
       "      <th>source</th>\n",
       "      <th>in_reply_to_status_id</th>\n",
       "      <th>...</th>\n",
       "      <th>favorited</th>\n",
       "      <th>retweeted</th>\n",
       "      <th>possibly_sensitive</th>\n",
       "      <th>possibly_sensitive_appealable</th>\n",
       "      <th>lang</th>\n",
       "      <th>retweeted_status</th>\n",
       "      <th>quoted_status_id</th>\n",
       "      <th>quoted_status_id_str</th>\n",
       "      <th>quoted_status_permalink</th>\n",
       "      <th>quoted_status</th>\n",
       "    </tr>\n",
       "  </thead>\n",
       "  <tbody>\n",
       "    <tr>\n",
       "      <th>0</th>\n",
       "      <td>2017-08-01 16:23:56+00:00</td>\n",
       "      <td>892420643555336193</td>\n",
       "      <td>892420643555336192</td>\n",
       "      <td>This is Phineas. He's a mystical boy. Only eve...</td>\n",
       "      <td>False</td>\n",
       "      <td>[0, 85]</td>\n",
       "      <td>{'hashtags': [], 'symbols': [], 'user_mentions...</td>\n",
       "      <td>{'media': [{'id': 892420639486877696, 'id_str'...</td>\n",
       "      <td>&lt;a href=\"http://twitter.com/download/iphone\" r...</td>\n",
       "      <td>NaN</td>\n",
       "      <td>...</td>\n",
       "      <td>False</td>\n",
       "      <td>False</td>\n",
       "      <td>0.0</td>\n",
       "      <td>0.0</td>\n",
       "      <td>en</td>\n",
       "      <td>NaN</td>\n",
       "      <td>NaN</td>\n",
       "      <td>NaN</td>\n",
       "      <td>NaN</td>\n",
       "      <td>NaN</td>\n",
       "    </tr>\n",
       "  </tbody>\n",
       "</table>\n",
       "<p>1 rows × 32 columns</p>\n",
       "</div>"
      ],
      "text/plain": [
       "                 created_at                  id              id_str  \\\n",
       "0 2017-08-01 16:23:56+00:00  892420643555336193  892420643555336192   \n",
       "\n",
       "                                           full_text  truncated  \\\n",
       "0  This is Phineas. He's a mystical boy. Only eve...      False   \n",
       "\n",
       "  display_text_range                                           entities  \\\n",
       "0            [0, 85]  {'hashtags': [], 'symbols': [], 'user_mentions...   \n",
       "\n",
       "                                   extended_entities  \\\n",
       "0  {'media': [{'id': 892420639486877696, 'id_str'...   \n",
       "\n",
       "                                              source  in_reply_to_status_id  \\\n",
       "0  <a href=\"http://twitter.com/download/iphone\" r...                    NaN   \n",
       "\n",
       "   ...  favorited  retweeted  possibly_sensitive  \\\n",
       "0  ...      False      False                 0.0   \n",
       "\n",
       "  possibly_sensitive_appealable lang  retweeted_status  quoted_status_id  \\\n",
       "0                           0.0   en               NaN               NaN   \n",
       "\n",
       "  quoted_status_id_str  quoted_status_permalink  quoted_status  \n",
       "0                  NaN                      NaN            NaN  \n",
       "\n",
       "[1 rows x 32 columns]"
      ]
     },
     "execution_count": 8,
     "metadata": {},
     "output_type": "execute_result"
    }
   ],
   "source": [
    "capture.head(1)"
   ]
  },
  {
   "cell_type": "code",
   "execution_count": 9,
   "metadata": {},
   "outputs": [
    {
     "name": "stdout",
     "output_type": "stream",
     "text": [
      "<class 'pandas.core.frame.DataFrame'>\n",
      "RangeIndex: 2331 entries, 0 to 2330\n",
      "Data columns (total 32 columns):\n",
      " #   Column                         Non-Null Count  Dtype              \n",
      "---  ------                         --------------  -----              \n",
      " 0   created_at                     2331 non-null   datetime64[ns, UTC]\n",
      " 1   id                             2331 non-null   int64              \n",
      " 2   id_str                         2331 non-null   int64              \n",
      " 3   full_text                      2331 non-null   object             \n",
      " 4   truncated                      2331 non-null   bool               \n",
      " 5   display_text_range             2331 non-null   object             \n",
      " 6   entities                       2331 non-null   object             \n",
      " 7   extended_entities              2059 non-null   object             \n",
      " 8   source                         2331 non-null   object             \n",
      " 9   in_reply_to_status_id          77 non-null     float64            \n",
      " 10  in_reply_to_status_id_str      77 non-null     float64            \n",
      " 11  in_reply_to_user_id            77 non-null     float64            \n",
      " 12  in_reply_to_user_id_str        77 non-null     float64            \n",
      " 13  in_reply_to_screen_name        77 non-null     object             \n",
      " 14  user                           2331 non-null   object             \n",
      " 15  geo                            0 non-null      float64            \n",
      " 16  coordinates                    0 non-null      float64            \n",
      " 17  place                          1 non-null      object             \n",
      " 18  contributors                   0 non-null      float64            \n",
      " 19  is_quote_status                2331 non-null   bool               \n",
      " 20  retweet_count                  2331 non-null   int64              \n",
      " 21  favorite_count                 2331 non-null   int64              \n",
      " 22  favorited                      2331 non-null   bool               \n",
      " 23  retweeted                      2331 non-null   bool               \n",
      " 24  possibly_sensitive             2197 non-null   float64            \n",
      " 25  possibly_sensitive_appealable  2197 non-null   float64            \n",
      " 26  lang                           2331 non-null   object             \n",
      " 27  retweeted_status               163 non-null    object             \n",
      " 28  quoted_status_id               26 non-null     float64            \n",
      " 29  quoted_status_id_str           26 non-null     float64            \n",
      " 30  quoted_status_permalink        26 non-null     object             \n",
      " 31  quoted_status                  24 non-null     object             \n",
      "dtypes: bool(4), datetime64[ns, UTC](1), float64(11), int64(4), object(12)\n",
      "memory usage: 519.1+ KB\n"
     ]
    }
   ],
   "source": [
    "capture.info()"
   ]
  },
  {
   "cell_type": "code",
   "execution_count": 10,
   "metadata": {},
   "outputs": [
    {
     "data": {
      "text/html": [
       "<div>\n",
       "<style scoped>\n",
       "    .dataframe tbody tr th:only-of-type {\n",
       "        vertical-align: middle;\n",
       "    }\n",
       "\n",
       "    .dataframe tbody tr th {\n",
       "        vertical-align: top;\n",
       "    }\n",
       "\n",
       "    .dataframe thead th {\n",
       "        text-align: right;\n",
       "    }\n",
       "</style>\n",
       "<table border=\"1\" class=\"dataframe\">\n",
       "  <thead>\n",
       "    <tr style=\"text-align: right;\">\n",
       "      <th></th>\n",
       "      <th>tweet_id</th>\n",
       "      <th>jpg_url</th>\n",
       "      <th>img_num</th>\n",
       "      <th>p1</th>\n",
       "      <th>p1_conf</th>\n",
       "      <th>p1_dog</th>\n",
       "      <th>p2</th>\n",
       "      <th>p2_conf</th>\n",
       "      <th>p2_dog</th>\n",
       "      <th>p3</th>\n",
       "      <th>p3_conf</th>\n",
       "      <th>p3_dog</th>\n",
       "    </tr>\n",
       "  </thead>\n",
       "  <tbody>\n",
       "    <tr>\n",
       "      <th>0</th>\n",
       "      <td>666020888022790149</td>\n",
       "      <td>https://pbs.twimg.com/media/CT4udn0WwAA0aMy.jpg</td>\n",
       "      <td>1</td>\n",
       "      <td>Welsh_springer_spaniel</td>\n",
       "      <td>0.465074</td>\n",
       "      <td>True</td>\n",
       "      <td>collie</td>\n",
       "      <td>0.156665</td>\n",
       "      <td>True</td>\n",
       "      <td>Shetland_sheepdog</td>\n",
       "      <td>0.061428</td>\n",
       "      <td>True</td>\n",
       "    </tr>\n",
       "  </tbody>\n",
       "</table>\n",
       "</div>"
      ],
      "text/plain": [
       "             tweet_id                                          jpg_url  \\\n",
       "0  666020888022790149  https://pbs.twimg.com/media/CT4udn0WwAA0aMy.jpg   \n",
       "\n",
       "   img_num                      p1   p1_conf  p1_dog      p2   p2_conf  \\\n",
       "0        1  Welsh_springer_spaniel  0.465074    True  collie  0.156665   \n",
       "\n",
       "   p2_dog                 p3   p3_conf  p3_dog  \n",
       "0    True  Shetland_sheepdog  0.061428    True  "
      ]
     },
     "execution_count": 10,
     "metadata": {},
     "output_type": "execute_result"
    }
   ],
   "source": [
    "images.head(1)"
   ]
  },
  {
   "cell_type": "code",
   "execution_count": 11,
   "metadata": {},
   "outputs": [
    {
     "name": "stdout",
     "output_type": "stream",
     "text": [
      "<class 'pandas.core.frame.DataFrame'>\n",
      "RangeIndex: 2075 entries, 0 to 2074\n",
      "Data columns (total 12 columns):\n",
      " #   Column    Non-Null Count  Dtype  \n",
      "---  ------    --------------  -----  \n",
      " 0   tweet_id  2075 non-null   int64  \n",
      " 1   jpg_url   2075 non-null   object \n",
      " 2   img_num   2075 non-null   int64  \n",
      " 3   p1        2075 non-null   object \n",
      " 4   p1_conf   2075 non-null   float64\n",
      " 5   p1_dog    2075 non-null   bool   \n",
      " 6   p2        2075 non-null   object \n",
      " 7   p2_conf   2075 non-null   float64\n",
      " 8   p2_dog    2075 non-null   bool   \n",
      " 9   p3        2075 non-null   object \n",
      " 10  p3_conf   2075 non-null   float64\n",
      " 11  p3_dog    2075 non-null   bool   \n",
      "dtypes: bool(3), float64(3), int64(2), object(4)\n",
      "memory usage: 152.1+ KB\n"
     ]
    }
   ],
   "source": [
    "images.info()"
   ]
  },
  {
   "cell_type": "markdown",
   "metadata": {},
   "source": [
    "## 3- Cleaning <a name=\"clean\"></a>\n",
    "### Define <a name=\"define\"></a>\n",
    "- **Quality Issues**\n",
    "1. Assess exceptions list for possible missing tweets\n",
    "2. Tweets with no images, retweet count, favorite count\n",
    "3. Need only original tweets; NO retweets NO replies\n",
    "4. Deal with empty and useless columns\n",
    "5. Timestamp dtype incorrect\n",
    "6. Deal with duplicated columns due to different data sets\n",
    "7. Clean data dtypes\n",
    "8. NaN, None Values\n",
    "9. deal with wrong info (wrong ratings, No names extracted, wrong types)\n",
    "10. Tweets that are not about dogs\n",
    "11. tweets that have bad predictions\n",
    "- **Tidiness Issues**\n",
    "1. Create new column that combines dog stage (doggo, floofer,pupper,puppo)\n",
    "2. merge data together according to tweet ID\n",
    "3. Separate dog info from tweet info from image info"
   ]
  },
  {
   "cell_type": "markdown",
   "metadata": {},
   "source": [
    "### Code & Test <a name=\"code\"></a>\n",
    "#### 1. (Quality Issue) Assess exceptions list for possible missing tweets"
   ]
  },
  {
   "cell_type": "code",
   "execution_count": 12,
   "metadata": {},
   "outputs": [
    {
     "data": {
      "text/plain": [
       "[{'code': 144, 'message': 'No status found with that ID.'}]                        24\n",
       "[{'code': 179, 'message': 'Sorry, you are not authorized to see this status.'}]     1\n",
       "Name: message, dtype: int64"
      ]
     },
     "execution_count": 12,
     "metadata": {},
     "output_type": "execute_result"
    }
   ],
   "source": [
    "exceptions = pd.DataFrame(exceptions_list).message.value_counts()\n",
    "exceptions"
   ]
  },
  {
   "cell_type": "markdown",
   "metadata": {},
   "source": [
    "There are no tweets that need to be fetched"
   ]
  },
  {
   "cell_type": "markdown",
   "metadata": {},
   "source": [
    "#### 2. (Tidiness Issue) merge data together according to tweet ID"
   ]
  },
  {
   "cell_type": "markdown",
   "metadata": {},
   "source": [
    "##### Code"
   ]
  },
  {
   "cell_type": "code",
   "execution_count": 13,
   "metadata": {},
   "outputs": [],
   "source": [
    "#Rename columns to know the source of each data column, will be cleaned later\n",
    "archive_renamed = archive.copy().rename(columns=(lambda x: x+'_archive'))\n",
    "capture_renamed = capture.copy().rename(columns=(lambda x: x+'_capture'))\n",
    "images_renamed = images.copy().rename(columns=(lambda x: x+'__images'))\n",
    "#merge data on tweet ids\n",
    "merged_data = archive_renamed.merge(capture_renamed,  how='left', left_on='tweet_id_archive',right_on='id_capture')\n",
    "merged_data = merged_data.merge(images_renamed,  how='left', left_on='tweet_id_archive',right_on='tweet_id__images')"
   ]
  },
  {
   "cell_type": "markdown",
   "metadata": {},
   "source": [
    "##### Test"
   ]
  },
  {
   "cell_type": "code",
   "execution_count": 14,
   "metadata": {},
   "outputs": [
    {
     "name": "stdout",
     "output_type": "stream",
     "text": [
      "<class 'pandas.core.frame.DataFrame'>\n",
      "Int64Index: 2356 entries, 0 to 2355\n",
      "Data columns (total 61 columns):\n",
      " #   Column                                 Non-Null Count  Dtype              \n",
      "---  ------                                 --------------  -----              \n",
      " 0   tweet_id_archive                       2356 non-null   int64              \n",
      " 1   in_reply_to_status_id_archive          78 non-null     float64            \n",
      " 2   in_reply_to_user_id_archive            78 non-null     float64            \n",
      " 3   timestamp_archive                      2356 non-null   object             \n",
      " 4   source_archive                         2356 non-null   object             \n",
      " 5   text_archive                           2356 non-null   object             \n",
      " 6   retweeted_status_id_archive            181 non-null    float64            \n",
      " 7   retweeted_status_user_id_archive       181 non-null    float64            \n",
      " 8   retweeted_status_timestamp_archive     181 non-null    object             \n",
      " 9   expanded_urls_archive                  2297 non-null   object             \n",
      " 10  rating_numerator_archive               2356 non-null   int64              \n",
      " 11  rating_denominator_archive             2356 non-null   int64              \n",
      " 12  name_archive                           2356 non-null   object             \n",
      " 13  doggo_archive                          2356 non-null   object             \n",
      " 14  floofer_archive                        2356 non-null   object             \n",
      " 15  pupper_archive                         2356 non-null   object             \n",
      " 16  puppo_archive                          2356 non-null   object             \n",
      " 17  created_at_capture                     2331 non-null   datetime64[ns, UTC]\n",
      " 18  id_capture                             2331 non-null   float64            \n",
      " 19  id_str_capture                         2331 non-null   float64            \n",
      " 20  full_text_capture                      2331 non-null   object             \n",
      " 21  truncated_capture                      2331 non-null   object             \n",
      " 22  display_text_range_capture             2331 non-null   object             \n",
      " 23  entities_capture                       2331 non-null   object             \n",
      " 24  extended_entities_capture              2059 non-null   object             \n",
      " 25  source_capture                         2331 non-null   object             \n",
      " 26  in_reply_to_status_id_capture          77 non-null     float64            \n",
      " 27  in_reply_to_status_id_str_capture      77 non-null     float64            \n",
      " 28  in_reply_to_user_id_capture            77 non-null     float64            \n",
      " 29  in_reply_to_user_id_str_capture        77 non-null     float64            \n",
      " 30  in_reply_to_screen_name_capture        77 non-null     object             \n",
      " 31  user_capture                           2331 non-null   object             \n",
      " 32  geo_capture                            0 non-null      float64            \n",
      " 33  coordinates_capture                    0 non-null      float64            \n",
      " 34  place_capture                          1 non-null      object             \n",
      " 35  contributors_capture                   0 non-null      float64            \n",
      " 36  is_quote_status_capture                2331 non-null   object             \n",
      " 37  retweet_count_capture                  2331 non-null   float64            \n",
      " 38  favorite_count_capture                 2331 non-null   float64            \n",
      " 39  favorited_capture                      2331 non-null   object             \n",
      " 40  retweeted_capture                      2331 non-null   object             \n",
      " 41  possibly_sensitive_capture             2197 non-null   float64            \n",
      " 42  possibly_sensitive_appealable_capture  2197 non-null   float64            \n",
      " 43  lang_capture                           2331 non-null   object             \n",
      " 44  retweeted_status_capture               163 non-null    object             \n",
      " 45  quoted_status_id_capture               26 non-null     float64            \n",
      " 46  quoted_status_id_str_capture           26 non-null     float64            \n",
      " 47  quoted_status_permalink_capture        26 non-null     object             \n",
      " 48  quoted_status_capture                  24 non-null     object             \n",
      " 49  tweet_id__images                       2075 non-null   float64            \n",
      " 50  jpg_url__images                        2075 non-null   object             \n",
      " 51  img_num__images                        2075 non-null   float64            \n",
      " 52  p1__images                             2075 non-null   object             \n",
      " 53  p1_conf__images                        2075 non-null   float64            \n",
      " 54  p1_dog__images                         2075 non-null   object             \n",
      " 55  p2__images                             2075 non-null   object             \n",
      " 56  p2_conf__images                        2075 non-null   float64            \n",
      " 57  p2_dog__images                         2075 non-null   object             \n",
      " 58  p3__images                             2075 non-null   object             \n",
      " 59  p3_conf__images                        2075 non-null   float64            \n",
      " 60  p3_dog__images                         2075 non-null   object             \n",
      "dtypes: datetime64[ns, UTC](1), float64(24), int64(3), object(33)\n",
      "memory usage: 1.1+ MB\n"
     ]
    }
   ],
   "source": [
    "merged_data.info()"
   ]
  },
  {
   "cell_type": "markdown",
   "metadata": {},
   "source": [
    "All data columns from the three datasets merged successfully"
   ]
  },
  {
   "cell_type": "markdown",
   "metadata": {},
   "source": [
    "#### 3. (Quality Issue) Tweets with no images, retweet count, favorite count"
   ]
  },
  {
   "cell_type": "markdown",
   "metadata": {},
   "source": [
    "##### Code"
   ]
  },
  {
   "cell_type": "code",
   "execution_count": 15,
   "metadata": {},
   "outputs": [],
   "source": [
    "merged_clean = merged_data.copy().dropna(subset=['tweet_id__images', 'retweet_count_capture', 'favorite_count_capture'])"
   ]
  },
  {
   "cell_type": "markdown",
   "metadata": {},
   "source": [
    "##### Test"
   ]
  },
  {
   "cell_type": "code",
   "execution_count": 16,
   "metadata": {},
   "outputs": [
    {
     "data": {
      "text/plain": [
       "297"
      ]
     },
     "execution_count": 16,
     "metadata": {},
     "output_type": "execute_result"
    }
   ],
   "source": [
    "merged_data.query('tweet_id__images == \"NaN\" | retweet_count_capture == \"NaN\" | favorite_count_capture == \"NaN\"').shape[0]"
   ]
  },
  {
   "cell_type": "code",
   "execution_count": 17,
   "metadata": {},
   "outputs": [
    {
     "data": {
      "text/plain": [
       "0"
      ]
     },
     "execution_count": 17,
     "metadata": {},
     "output_type": "execute_result"
    }
   ],
   "source": [
    "merged_clean.query('tweet_id__images == \"NaN\" | retweet_count_capture == \"NaN\" | favorite_count_capture == \"NaN\"').shape[0]"
   ]
  },
  {
   "cell_type": "markdown",
   "metadata": {},
   "source": [
    "No remaining tweets with no images, retweet count, favorite count"
   ]
  },
  {
   "cell_type": "markdown",
   "metadata": {},
   "source": [
    "#### 4. (Quality Issue) Need only original tweets; NO retweets NO replies"
   ]
  },
  {
   "cell_type": "markdown",
   "metadata": {},
   "source": [
    "##### Code"
   ]
  },
  {
   "cell_type": "code",
   "execution_count": 18,
   "metadata": {},
   "outputs": [],
   "source": [
    "merged_clean = merged_clean.drop(index=merged_clean.query('retweeted_status_id_archive != \"NaN\" | in_reply_to_status_id_archive != \"NaN\"').index, errors='ignore')"
   ]
  },
  {
   "cell_type": "markdown",
   "metadata": {},
   "source": [
    "##### Test"
   ]
  },
  {
   "cell_type": "code",
   "execution_count": 19,
   "metadata": {},
   "outputs": [
    {
     "data": {
      "text/plain": [
       "259"
      ]
     },
     "execution_count": 19,
     "metadata": {},
     "output_type": "execute_result"
    }
   ],
   "source": [
    "merged_data.query('retweeted_status_id_archive != \"NaN\" | in_reply_to_status_id_archive != \"NaN\"').shape[0]"
   ]
  },
  {
   "cell_type": "code",
   "execution_count": 20,
   "metadata": {},
   "outputs": [
    {
     "data": {
      "text/plain": [
       "0"
      ]
     },
     "execution_count": 20,
     "metadata": {},
     "output_type": "execute_result"
    }
   ],
   "source": [
    "merged_clean.query('retweeted_status_id_archive != \"NaN\" | in_reply_to_status_id_archive != \"NaN\"').shape[0]"
   ]
  },
  {
   "cell_type": "markdown",
   "metadata": {},
   "source": [
    "No remaining tweets with retweets or replies"
   ]
  },
  {
   "cell_type": "markdown",
   "metadata": {},
   "source": [
    "#### 5. (Quality Issue) Deal with empty and useless columns"
   ]
  },
  {
   "cell_type": "markdown",
   "metadata": {},
   "source": [
    "##### inspect programmatically"
   ]
  },
  {
   "cell_type": "code",
   "execution_count": 21,
   "metadata": {},
   "outputs": [
    {
     "name": "stdout",
     "output_type": "stream",
     "text": [
      "<class 'pandas.core.frame.DataFrame'>\n",
      "Int64Index: 1964 entries, 0 to 2355\n",
      "Data columns (total 61 columns):\n",
      " #   Column                                 Non-Null Count  Dtype              \n",
      "---  ------                                 --------------  -----              \n",
      " 0   tweet_id_archive                       1964 non-null   int64              \n",
      " 1   in_reply_to_status_id_archive          0 non-null      float64            \n",
      " 2   in_reply_to_user_id_archive            0 non-null      float64            \n",
      " 3   timestamp_archive                      1964 non-null   object             \n",
      " 4   source_archive                         1964 non-null   object             \n",
      " 5   text_archive                           1964 non-null   object             \n",
      " 6   retweeted_status_id_archive            0 non-null      float64            \n",
      " 7   retweeted_status_user_id_archive       0 non-null      float64            \n",
      " 8   retweeted_status_timestamp_archive     0 non-null      object             \n",
      " 9   expanded_urls_archive                  1964 non-null   object             \n",
      " 10  rating_numerator_archive               1964 non-null   int64              \n",
      " 11  rating_denominator_archive             1964 non-null   int64              \n",
      " 12  name_archive                           1964 non-null   object             \n",
      " 13  doggo_archive                          1964 non-null   object             \n",
      " 14  floofer_archive                        1964 non-null   object             \n",
      " 15  pupper_archive                         1964 non-null   object             \n",
      " 16  puppo_archive                          1964 non-null   object             \n",
      " 17  created_at_capture                     1964 non-null   datetime64[ns, UTC]\n",
      " 18  id_capture                             1964 non-null   float64            \n",
      " 19  id_str_capture                         1964 non-null   float64            \n",
      " 20  full_text_capture                      1964 non-null   object             \n",
      " 21  truncated_capture                      1964 non-null   object             \n",
      " 22  display_text_range_capture             1964 non-null   object             \n",
      " 23  entities_capture                       1964 non-null   object             \n",
      " 24  extended_entities_capture              1964 non-null   object             \n",
      " 25  source_capture                         1964 non-null   object             \n",
      " 26  in_reply_to_status_id_capture          0 non-null      float64            \n",
      " 27  in_reply_to_status_id_str_capture      0 non-null      float64            \n",
      " 28  in_reply_to_user_id_capture            0 non-null      float64            \n",
      " 29  in_reply_to_user_id_str_capture        0 non-null      float64            \n",
      " 30  in_reply_to_screen_name_capture        0 non-null      object             \n",
      " 31  user_capture                           1964 non-null   object             \n",
      " 32  geo_capture                            0 non-null      float64            \n",
      " 33  coordinates_capture                    0 non-null      float64            \n",
      " 34  place_capture                          1 non-null      object             \n",
      " 35  contributors_capture                   0 non-null      float64            \n",
      " 36  is_quote_status_capture                1964 non-null   object             \n",
      " 37  retweet_count_capture                  1964 non-null   float64            \n",
      " 38  favorite_count_capture                 1964 non-null   float64            \n",
      " 39  favorited_capture                      1964 non-null   object             \n",
      " 40  retweeted_capture                      1964 non-null   object             \n",
      " 41  possibly_sensitive_capture             1964 non-null   float64            \n",
      " 42  possibly_sensitive_appealable_capture  1964 non-null   float64            \n",
      " 43  lang_capture                           1964 non-null   object             \n",
      " 44  retweeted_status_capture               0 non-null      object             \n",
      " 45  quoted_status_id_capture               0 non-null      float64            \n",
      " 46  quoted_status_id_str_capture           0 non-null      float64            \n",
      " 47  quoted_status_permalink_capture        0 non-null      object             \n",
      " 48  quoted_status_capture                  0 non-null      object             \n",
      " 49  tweet_id__images                       1964 non-null   float64            \n",
      " 50  jpg_url__images                        1964 non-null   object             \n",
      " 51  img_num__images                        1964 non-null   float64            \n",
      " 52  p1__images                             1964 non-null   object             \n",
      " 53  p1_conf__images                        1964 non-null   float64            \n",
      " 54  p1_dog__images                         1964 non-null   object             \n",
      " 55  p2__images                             1964 non-null   object             \n",
      " 56  p2_conf__images                        1964 non-null   float64            \n",
      " 57  p2_dog__images                         1964 non-null   object             \n",
      " 58  p3__images                             1964 non-null   object             \n",
      " 59  p3_conf__images                        1964 non-null   float64            \n",
      " 60  p3_dog__images                         1964 non-null   object             \n",
      "dtypes: datetime64[ns, UTC](1), float64(24), int64(3), object(33)\n",
      "memory usage: 951.3+ KB\n"
     ]
    }
   ],
   "source": [
    "merged_clean.info()"
   ]
  },
  {
   "cell_type": "markdown",
   "metadata": {},
   "source": [
    "##### Code"
   ]
  },
  {
   "cell_type": "code",
   "execution_count": 22,
   "metadata": {},
   "outputs": [],
   "source": [
    "merged_clean = merged_clean.dropna(axis=1, how='all')"
   ]
  },
  {
   "cell_type": "markdown",
   "metadata": {},
   "source": [
    "##### Test"
   ]
  },
  {
   "cell_type": "code",
   "execution_count": 23,
   "metadata": {},
   "outputs": [
    {
     "name": "stdout",
     "output_type": "stream",
     "text": [
      "<class 'pandas.core.frame.DataFrame'>\n",
      "Int64Index: 1964 entries, 0 to 2355\n",
      "Data columns (total 43 columns):\n",
      " #   Column                                 Non-Null Count  Dtype              \n",
      "---  ------                                 --------------  -----              \n",
      " 0   tweet_id_archive                       1964 non-null   int64              \n",
      " 1   timestamp_archive                      1964 non-null   object             \n",
      " 2   source_archive                         1964 non-null   object             \n",
      " 3   text_archive                           1964 non-null   object             \n",
      " 4   expanded_urls_archive                  1964 non-null   object             \n",
      " 5   rating_numerator_archive               1964 non-null   int64              \n",
      " 6   rating_denominator_archive             1964 non-null   int64              \n",
      " 7   name_archive                           1964 non-null   object             \n",
      " 8   doggo_archive                          1964 non-null   object             \n",
      " 9   floofer_archive                        1964 non-null   object             \n",
      " 10  pupper_archive                         1964 non-null   object             \n",
      " 11  puppo_archive                          1964 non-null   object             \n",
      " 12  created_at_capture                     1964 non-null   datetime64[ns, UTC]\n",
      " 13  id_capture                             1964 non-null   float64            \n",
      " 14  id_str_capture                         1964 non-null   float64            \n",
      " 15  full_text_capture                      1964 non-null   object             \n",
      " 16  truncated_capture                      1964 non-null   object             \n",
      " 17  display_text_range_capture             1964 non-null   object             \n",
      " 18  entities_capture                       1964 non-null   object             \n",
      " 19  extended_entities_capture              1964 non-null   object             \n",
      " 20  source_capture                         1964 non-null   object             \n",
      " 21  user_capture                           1964 non-null   object             \n",
      " 22  place_capture                          1 non-null      object             \n",
      " 23  is_quote_status_capture                1964 non-null   object             \n",
      " 24  retweet_count_capture                  1964 non-null   float64            \n",
      " 25  favorite_count_capture                 1964 non-null   float64            \n",
      " 26  favorited_capture                      1964 non-null   object             \n",
      " 27  retweeted_capture                      1964 non-null   object             \n",
      " 28  possibly_sensitive_capture             1964 non-null   float64            \n",
      " 29  possibly_sensitive_appealable_capture  1964 non-null   float64            \n",
      " 30  lang_capture                           1964 non-null   object             \n",
      " 31  tweet_id__images                       1964 non-null   float64            \n",
      " 32  jpg_url__images                        1964 non-null   object             \n",
      " 33  img_num__images                        1964 non-null   float64            \n",
      " 34  p1__images                             1964 non-null   object             \n",
      " 35  p1_conf__images                        1964 non-null   float64            \n",
      " 36  p1_dog__images                         1964 non-null   object             \n",
      " 37  p2__images                             1964 non-null   object             \n",
      " 38  p2_conf__images                        1964 non-null   float64            \n",
      " 39  p2_dog__images                         1964 non-null   object             \n",
      " 40  p3__images                             1964 non-null   object             \n",
      " 41  p3_conf__images                        1964 non-null   float64            \n",
      " 42  p3_dog__images                         1964 non-null   object             \n",
      "dtypes: datetime64[ns, UTC](1), float64(11), int64(3), object(28)\n",
      "memory usage: 675.1+ KB\n"
     ]
    }
   ],
   "source": [
    "merged_clean.info()"
   ]
  },
  {
   "cell_type": "markdown",
   "metadata": {},
   "source": [
    "No empty columns left"
   ]
  },
  {
   "cell_type": "markdown",
   "metadata": {},
   "source": [
    "##### inspect column values visually"
   ]
  },
  {
   "cell_type": "code",
   "execution_count": 24,
   "metadata": {},
   "outputs": [
    {
     "name": "stdout",
     "output_type": "stream",
     "text": [
      "\n",
      "tweet_id_archive:\n",
      "\n",
      "685532292383666176    1\n",
      "809920764300447744    1\n",
      "759923798737051648    1\n",
      "672082170312290304    1\n",
      "667160273090932737    1\n",
      "                     ..\n",
      "692417313023332352    1\n",
      "667119796878725120    1\n",
      "688828561667567616    1\n",
      "834931633769889797    1\n",
      "700151421916807169    1\n",
      "Name: tweet_id_archive, Length: 1964, dtype: int64\n",
      "\n",
      "timestamp_archive:\n",
      "\n",
      "2017-05-31 04:27:59 +0000    1\n",
      "2016-12-22 17:23:53 +0000    1\n",
      "2016-02-11 03:02:54 +0000    1\n",
      "2015-12-08 03:57:26 +0000    1\n",
      "2017-05-06 23:49:50 +0000    1\n",
      "                            ..\n",
      "2017-02-23 01:22:14 +0000    1\n",
      "2016-03-08 21:23:50 +0000    1\n",
      "2015-11-28 19:04:19 +0000    1\n",
      "2016-12-15 02:14:29 +0000    1\n",
      "2015-12-01 20:35:22 +0000    1\n",
      "Name: timestamp_archive, Length: 1964, dtype: int64\n",
      "\n",
      "source_archive:\n",
      "\n",
      "<a href=\"http://twitter.com/download/iphone\" rel=\"nofollow\">Twitter for iPhone</a>     1926\n",
      "<a href=\"http://twitter.com\" rel=\"nofollow\">Twitter Web Client</a>                       28\n",
      "<a href=\"https://about.twitter.com/products/tweetdeck\" rel=\"nofollow\">TweetDeck</a>      10\n",
      "Name: source_archive, dtype: int64\n",
      "\n",
      "text_archive:\n",
      "\n",
      "This is Arlen and Thumpelina. They are best pals. Cuddly af. 11/10 for both puppers https://t.co/VJgbgIzIHx                                                            1\n",
      "Sometimes you guys remind me just how impactful a pupper can be. Cooper will be remembered as a good boy by so many. 14/10 rest easy friend https://t.co/oBL7LEJEzR    1\n",
      "When you keepin the popcorn bucket in your lap and she reach for some... 10/10 https://t.co/a1IrjaID3X                                                                 1\n",
      "\"🎶 DO YOU BELIEVE IN LIFE AFTER LOVE 🎶\"\\n11/10 https://t.co/URNs5zFskc                                                                                                 1\n",
      "NAAAAAAA ZAPENYAAAAA MABADI-CHIBAWAAA 12/10 https://t.co/Ny4iM6FDtz                                                                                                    1\n",
      "                                                                                                                                                                      ..\n",
      "This is Tucker. He is 100% ready for the sports. 12/10 I would watch anything with him https://t.co/k0ddVUWTcu                                                         1\n",
      "This is Boomer. He's doing an advanced water takeoff. The opposite of Sully. Ears for control, mlem for style. 13/10 simply breathtaking https://t.co/noNpY2Laoo       1\n",
      "Super rare dog right here guys. Doesn't bark. Seems strong. Blue. Very family friendly pet. 10/10 overall good dog https://t.co/Jykq2iq3qN                             1\n",
      "This is Piper. She would really like that tennis ball core. Super sneaky tongue slip. 12/10 precious af https://t.co/QP6GHi5az9                                        1\n",
      "This is a northern Wahoo named Kohl. He runs this town. Chases tumbleweeds. Draws gun wicked fast. 11/10 legendary https://t.co/J4vn2rOYFk                             1\n",
      "Name: text_archive, Length: 1964, dtype: int64\n",
      "\n",
      "expanded_urls_archive:\n",
      "\n",
      "https://twitter.com/dog_rates/status/803773340896923648/photo/1,https://twitter.com/dog_rates/status/803773340896923648/photo/1,https://twitter.com/dog_rates/status/803773340896923648/photo/1,https://twitter.com/dog_rates/status/803773340896923648/photo/1    1\n",
      "https://twitter.com/dog_rates/status/860184849394610176/photo/1                                                                                                                                                                                                    1\n",
      "https://twitter.com/dog_rates/status/690735892932222976/photo/1,https://twitter.com/dog_rates/status/690735892932222976/photo/1                                                                                                                                    1\n",
      "https://twitter.com/dog_rates/status/704859558691414016/photo/1                                                                                                                                                                                                    1\n",
      "https://twitter.com/dog_rates/status/714982300363173890/photo/1                                                                                                                                                                                                    1\n",
      "                                                                                                                                                                                                                                                                  ..\n",
      "https://twitter.com/dog_rates/status/672139350159835138/photo/1                                                                                                                                                                                                    1\n",
      "https://twitter.com/dog_rates/status/685315239903100929/photo/1,https://twitter.com/dog_rates/status/685315239903100929/photo/1                                                                                                                                    1\n",
      "https://twitter.com/dog_rates/status/877316821321428993/photo/1,https://twitter.com/dog_rates/status/877316821321428993/photo/1                                                                                                                                    1\n",
      "https://twitter.com/dog_rates/status/672970152493887488/photo/1                                                                                                                                                                                                    1\n",
      "https://twitter.com/dog_rates/status/751538714308972544/photo/1,https://twitter.com/dog_rates/status/751538714308972544/photo/1,https://twitter.com/dog_rates/status/751538714308972544/photo/1                                                                    1\n",
      "Name: expanded_urls_archive, Length: 1964, dtype: int64\n",
      "\n",
      "rating_numerator_archive:\n",
      "\n",
      "12      444\n",
      "10      416\n",
      "11      392\n",
      "13      249\n",
      "9       150\n",
      "8        95\n",
      "7        52\n",
      "5        33\n",
      "14       33\n",
      "6        32\n",
      "3        19\n",
      "4        16\n",
      "2         9\n",
      "1         5\n",
      "1776      1\n",
      "24        1\n",
      "26        1\n",
      "420       1\n",
      "27        1\n",
      "44        1\n",
      "45        1\n",
      "50        1\n",
      "60        1\n",
      "75        1\n",
      "80        1\n",
      "84        1\n",
      "88        1\n",
      "99        1\n",
      "121       1\n",
      "144       1\n",
      "165       1\n",
      "204       1\n",
      "0         1\n",
      "Name: rating_numerator_archive, dtype: int64\n",
      "\n",
      "rating_denominator_archive:\n",
      "\n",
      "10     1947\n",
      "50        3\n",
      "80        2\n",
      "11        2\n",
      "170       1\n",
      "150       1\n",
      "120       1\n",
      "110       1\n",
      "90        1\n",
      "70        1\n",
      "40        1\n",
      "20        1\n",
      "7         1\n",
      "2         1\n",
      "Name: rating_denominator_archive, dtype: int64\n",
      "\n",
      "name_archive:\n",
      "\n",
      "None         524\n",
      "a             55\n",
      "Charlie       10\n",
      "Cooper        10\n",
      "Oliver        10\n",
      "            ... \n",
      "Sojourner      1\n",
      "Pilot          1\n",
      "Link           1\n",
      "Chesney        1\n",
      "Vinscent       1\n",
      "Name: name_archive, Length: 933, dtype: int64\n",
      "\n",
      "doggo_archive:\n",
      "\n",
      "None     1892\n",
      "doggo      72\n",
      "Name: doggo_archive, dtype: int64\n",
      "\n",
      "floofer_archive:\n",
      "\n",
      "None       1956\n",
      "floofer       8\n",
      "Name: floofer_archive, dtype: int64\n",
      "\n",
      "pupper_archive:\n",
      "\n",
      "None      1755\n",
      "pupper     209\n",
      "Name: pupper_archive, dtype: int64\n",
      "\n",
      "puppo_archive:\n",
      "\n",
      "None     1941\n",
      "puppo      23\n",
      "Name: puppo_archive, dtype: int64\n",
      "\n",
      "created_at_capture:\n",
      "\n",
      "2016-08-04 22:52:29+00:00    1\n",
      "2017-03-26 01:38:00+00:00    1\n",
      "2016-01-05 02:30:55+00:00    1\n",
      "2016-02-13 22:29:29+00:00    1\n",
      "2015-12-25 03:00:14+00:00    1\n",
      "                            ..\n",
      "2016-06-10 16:19:48+00:00    1\n",
      "2016-03-14 16:02:49+00:00    1\n",
      "2016-04-08 20:46:50+00:00    1\n",
      "2017-05-25 16:10:44+00:00    1\n",
      "2016-08-06 21:20:40+00:00    1\n",
      "Name: created_at_capture, Length: 1964, dtype: int64\n",
      "\n",
      "id_capture:\n",
      "\n",
      "8.653594e+17    1\n",
      "8.896654e+17    1\n",
      "8.399903e+17    1\n",
      "8.500198e+17    1\n",
      "7.771898e+17    1\n",
      "               ..\n",
      "8.119856e+17    1\n",
      "6.678738e+17    1\n",
      "7.309247e+17    1\n",
      "7.529173e+17    1\n",
      "7.827471e+17    1\n",
      "Name: id_capture, Length: 1964, dtype: int64\n",
      "\n",
      "id_str_capture:\n",
      "\n",
      "8.653594e+17    1\n",
      "8.896654e+17    1\n",
      "8.399903e+17    1\n",
      "8.500198e+17    1\n",
      "7.771898e+17    1\n",
      "               ..\n",
      "8.119856e+17    1\n",
      "6.678738e+17    1\n",
      "7.309247e+17    1\n",
      "7.529173e+17    1\n",
      "7.827471e+17    1\n",
      "Name: id_str_capture, Length: 1964, dtype: int64\n",
      "\n",
      "full_text_capture:\n",
      "\n",
      "This is Arlen and Thumpelina. They are best pals. Cuddly af. 11/10 for both puppers https://t.co/VJgbgIzIHx                                                            1\n",
      "Sometimes you guys remind me just how impactful a pupper can be. Cooper will be remembered as a good boy by so many. 14/10 rest easy friend https://t.co/oBL7LEJEzR    1\n",
      "When you keepin the popcorn bucket in your lap and she reach for some... 10/10 https://t.co/a1IrjaID3X                                                                 1\n",
      "\"🎶 DO YOU BELIEVE IN LIFE AFTER LOVE 🎶\"\\n11/10 https://t.co/URNs5zFskc                                                                                                 1\n",
      "NAAAAAAA ZAPENYAAAAA MABADI-CHIBAWAAA 12/10 https://t.co/Ny4iM6FDtz                                                                                                    1\n",
      "                                                                                                                                                                      ..\n",
      "This is Tucker. He is 100% ready for the sports. 12/10 I would watch anything with him https://t.co/k0ddVUWTcu                                                         1\n",
      "This is Boomer. He's doing an advanced water takeoff. The opposite of Sully. Ears for control, mlem for style. 13/10 simply breathtaking https://t.co/noNpY2Laoo       1\n",
      "Super rare dog right here guys. Doesn't bark. Seems strong. Blue. Very family friendly pet. 10/10 overall good dog https://t.co/Jykq2iq3qN                             1\n",
      "This is Piper. She would really like that tennis ball core. Super sneaky tongue slip. 12/10 precious af https://t.co/QP6GHi5az9                                        1\n",
      "This is a northern Wahoo named Kohl. He runs this town. Chases tumbleweeds. Draws gun wicked fast. 11/10 legendary https://t.co/J4vn2rOYFk                             1\n",
      "Name: full_text_capture, Length: 1964, dtype: int64\n",
      "\n",
      "truncated_capture:\n",
      "\n",
      "False    1964\n",
      "Name: truncated_capture, dtype: int64\n",
      "\n",
      "display_text_range_capture:\n",
      "\n",
      "[0, 140]    175\n",
      "[0, 139]    136\n",
      "[0, 138]     79\n",
      "[0, 137]     76\n",
      "[0, 116]     56\n",
      "           ... \n",
      "[0, 142]      1\n",
      "[0, 35]       1\n",
      "[0, 32]       1\n",
      "[0, 13]       1\n",
      "[0, 45]       1\n",
      "Name: display_text_range_capture, Length: 113, dtype: int64\n",
      "\n",
      "entities_capture:\n",
      "\n"
     ]
    },
    {
     "name": "stdout",
     "output_type": "stream",
     "text": [
      "{'hashtags': [], 'symbols': [], 'user_mentions': [], 'urls': [], 'media': [{'id': 676146336014667776, 'id_str': '676146336014667776', 'indices': [38, 61], 'media_url': 'http://pbs.twimg.com/media/CWIngp5WEAAJOy3.jpg', 'media_url_https': 'https://pbs.twimg.com/media/CWIngp5WEAAJOy3.jpg', 'url': 'https://t.co/lmQRrNxaQu', 'display_url': 'pic.twitter.com/lmQRrNxaQu', 'expanded_url': 'https://twitter.com/dog_rates/status/676146341966438401/photo/1', 'type': 'photo', 'sizes': {'thumb': {'w': 150, 'h': 150, 'resize': 'crop'}, 'small': {'w': 680, 'h': 510, 'resize': 'fit'}, 'medium': {'w': 1024, 'h': 768, 'resize': 'fit'}, 'large': {'w': 1024, 'h': 768, 'resize': 'fit'}}}]}                                                                                    1\n",
      "{'hashtags': [], 'symbols': [], 'user_mentions': [], 'urls': [], 'media': [{'id': 666804340162732032, 'id_str': '666804340162732032', 'indices': [112, 135], 'media_url': 'http://pbs.twimg.com/media/CUD3A7YWoAA82N0.jpg', 'media_url_https': 'https://pbs.twimg.com/media/CUD3A7YWoAA82N0.jpg', 'url': 'https://t.co/RdKbAOEpDK', 'display_url': 'pic.twitter.com/RdKbAOEpDK', 'expanded_url': 'https://twitter.com/dog_rates/status/666804364988780544/photo/1', 'type': 'photo', 'sizes': {'small': {'w': 510, 'h': 680, 'resize': 'fit'}, 'thumb': {'w': 150, 'h': 150, 'resize': 'crop'}, 'medium': {'w': 768, 'h': 1024, 'resize': 'fit'}, 'large': {'w': 768, 'h': 1024, 'resize': 'fit'}}}]}                                                                                  1\n",
      "{'hashtags': [], 'symbols': [], 'user_mentions': [], 'urls': [], 'media': [{'id': 773704673102557184, 'id_str': '773704673102557184', 'indices': [107, 130], 'media_url': 'http://pbs.twimg.com/media/CrzATQlWcAATzWX.jpg', 'media_url_https': 'https://pbs.twimg.com/media/CrzATQlWcAATzWX.jpg', 'url': 'https://t.co/OqNggd4Oio', 'display_url': 'pic.twitter.com/OqNggd4Oio', 'expanded_url': 'https://twitter.com/dog_rates/status/773704687002451968/photo/1', 'type': 'photo', 'sizes': {'small': {'w': 535, 'h': 680, 'resize': 'fit'}, 'thumb': {'w': 150, 'h': 150, 'resize': 'crop'}, 'medium': {'w': 806, 'h': 1024, 'resize': 'fit'}, 'large': {'w': 806, 'h': 1024, 'resize': 'fit'}}}]}                                                                                  1\n",
      "{'hashtags': [], 'symbols': [], 'user_mentions': [], 'urls': [], 'media': [{'id': 795464066940764160, 'id_str': '795464066940764160', 'indices': [55, 78], 'media_url': 'http://pbs.twimg.com/ext_tw_video_thumb/795464066940764160/pu/img/jPkMMQXdydb7CqFX.jpg', 'media_url_https': 'https://pbs.twimg.com/ext_tw_video_thumb/795464066940764160/pu/img/jPkMMQXdydb7CqFX.jpg', 'url': 'https://t.co/gBUDjdEcqz', 'display_url': 'pic.twitter.com/gBUDjdEcqz', 'expanded_url': 'https://twitter.com/dog_rates/status/795464331001561088/video/1', 'type': 'photo', 'sizes': {'thumb': {'w': 150, 'h': 150, 'resize': 'crop'}, 'small': {'w': 383, 'h': 680, 'resize': 'fit'}, 'large': {'w': 720, 'h': 1280, 'resize': 'fit'}, 'medium': {'w': 675, 'h': 1200, 'resize': 'fit'}}}]}    1\n",
      "{'hashtags': [], 'symbols': [], 'user_mentions': [], 'urls': [], 'media': [{'id': 666786064321900544, 'id_str': '666786064321900544', 'indices': [116, 139], 'media_url': 'http://pbs.twimg.com/media/CUDmZIkWcAAIPPe.jpg', 'media_url_https': 'https://pbs.twimg.com/media/CUDmZIkWcAAIPPe.jpg', 'url': 'https://t.co/EIn5kElY1S', 'display_url': 'pic.twitter.com/EIn5kElY1S', 'expanded_url': 'https://twitter.com/dog_rates/status/666786068205871104/photo/1', 'type': 'photo', 'sizes': {'thumb': {'w': 150, 'h': 150, 'resize': 'crop'}, 'small': {'w': 620, 'h': 387, 'resize': 'fit'}, 'large': {'w': 620, 'h': 387, 'resize': 'fit'}, 'medium': {'w': 620, 'h': 387, 'resize': 'fit'}}}]}                                                                                    1\n",
      "                                                                                                                                                                                                                                                                                                                                                                                                                                                                                                                                                                                                                                                                                                                                                                                      ..\n",
      "{'hashtags': [], 'symbols': [], 'user_mentions': [], 'urls': [], 'media': [{'id': 850380153985355777, 'id_str': '850380153985355777', 'indices': [141, 164], 'media_url': 'http://pbs.twimg.com/ext_tw_video_thumb/850380153985355777/pu/img/lFouhg-EZvJs8eMr.jpg', 'media_url_https': 'https://pbs.twimg.com/ext_tw_video_thumb/850380153985355777/pu/img/lFouhg-EZvJs8eMr.jpg', 'url': 'https://t.co/FXZQtBcnTO', 'display_url': 'pic.twitter.com/FXZQtBcnTO', 'expanded_url': 'https://twitter.com/dog_rates/status/850380195714523136/video/1', 'type': 'photo', 'sizes': {'thumb': {'w': 150, 'h': 150, 'resize': 'crop'}, 'small': {'w': 544, 'h': 680, 'resize': 'fit'}, 'large': {'w': 640, 'h': 800, 'resize': 'fit'}, 'medium': {'w': 640, 'h': 800, 'resize': 'fit'}}}]}    1\n",
      "{'hashtags': [], 'symbols': [], 'user_mentions': [], 'urls': [], 'media': [{'id': 743980013133783040, 'id_str': '743980013133783040', 'indices': [116, 139], 'media_url': 'http://pbs.twimg.com/media/ClMl4VLUYAA5qBb.jpg', 'media_url_https': 'https://pbs.twimg.com/media/ClMl4VLUYAA5qBb.jpg', 'url': 'https://t.co/Kxda28JmQ2', 'display_url': 'pic.twitter.com/Kxda28JmQ2', 'expanded_url': 'https://twitter.com/dog_rates/status/743980027717509120/photo/1', 'type': 'photo', 'sizes': {'thumb': {'w': 150, 'h': 150, 'resize': 'crop'}, 'medium': {'w': 576, 'h': 1024, 'resize': 'fit'}, 'small': {'w': 383, 'h': 680, 'resize': 'fit'}, 'large': {'w': 576, 'h': 1024, 'resize': 'fit'}}}]}                                                                                  1\n",
      "{'hashtags': [], 'symbols': [], 'user_mentions': [], 'urls': [], 'media': [{'id': 693231800538148864, 'id_str': '693231800538148864', 'indices': [117, 140], 'media_url': 'http://pbs.twimg.com/media/CZ7aplIUsAAq-8s.jpg', 'media_url_https': 'https://pbs.twimg.com/media/CZ7aplIUsAAq-8s.jpg', 'url': 'https://t.co/bpZsGMqVVP', 'display_url': 'pic.twitter.com/bpZsGMqVVP', 'expanded_url': 'https://twitter.com/dog_rates/status/693231807727280129/photo/1', 'type': 'photo', 'sizes': {'thumb': {'w': 150, 'h': 150, 'resize': 'crop'}, 'small': {'w': 510, 'h': 680, 'resize': 'fit'}, 'large': {'w': 768, 'h': 1024, 'resize': 'fit'}, 'medium': {'w': 768, 'h': 1024, 'resize': 'fit'}}}]}                                                                                  1\n",
      "{'hashtags': [], 'symbols': [], 'user_mentions': [], 'urls': [], 'media': [{'id': 685325091882799104, 'id_str': '685325091882799104', 'indices': [88, 111], 'media_url': 'http://pbs.twimg.com/media/CYLDikFWEAAIy1y.jpg', 'media_url_https': 'https://pbs.twimg.com/media/CYLDikFWEAAIy1y.jpg', 'url': 'https://t.co/VGPH0TfESw', 'display_url': 'pic.twitter.com/VGPH0TfESw', 'expanded_url': 'https://twitter.com/dog_rates/status/685325112850124800/photo/1', 'type': 'photo', 'sizes': {'thumb': {'w': 150, 'h': 150, 'resize': 'crop'}, 'small': {'w': 510, 'h': 680, 'resize': 'fit'}, 'large': {'w': 768, 'h': 1024, 'resize': 'fit'}, 'medium': {'w': 768, 'h': 1024, 'resize': 'fit'}}}]}                                                                                   1\n",
      "{'hashtags': [], 'symbols': [], 'user_mentions': [], 'urls': [], 'media': [{'id': 669993066573393920, 'id_str': '669993066573393920', 'indices': [102, 125], 'media_url': 'http://pbs.twimg.com/media/CUxLJO8U8AAu6Zu.jpg', 'media_url_https': 'https://pbs.twimg.com/media/CUxLJO8U8AAu6Zu.jpg', 'url': 'https://t.co/kR1fqy4NKK', 'display_url': 'pic.twitter.com/kR1fqy4NKK', 'expanded_url': 'https://twitter.com/dog_rates/status/669993076832759809/photo/1', 'type': 'photo', 'sizes': {'thumb': {'w': 150, 'h': 150, 'resize': 'crop'}, 'medium': {'w': 1024, 'h': 768, 'resize': 'fit'}, 'large': {'w': 1024, 'h': 768, 'resize': 'fit'}, 'small': {'w': 680, 'h': 510, 'resize': 'fit'}}}]}                                                                                  1\n",
      "Name: entities_capture, Length: 1964, dtype: int64\n",
      "\n",
      "extended_entities_capture:\n",
      "\n",
      "{'media': [{'id': 676146336014667776, 'id_str': '676146336014667776', 'indices': [38, 61], 'media_url': 'http://pbs.twimg.com/media/CWIngp5WEAAJOy3.jpg', 'media_url_https': 'https://pbs.twimg.com/media/CWIngp5WEAAJOy3.jpg', 'url': 'https://t.co/lmQRrNxaQu', 'display_url': 'pic.twitter.com/lmQRrNxaQu', 'expanded_url': 'https://twitter.com/dog_rates/status/676146341966438401/photo/1', 'type': 'photo', 'sizes': {'thumb': {'w': 150, 'h': 150, 'resize': 'crop'}, 'small': {'w': 680, 'h': 510, 'resize': 'fit'}, 'medium': {'w': 1024, 'h': 768, 'resize': 'fit'}, 'large': {'w': 1024, 'h': 768, 'resize': 'fit'}}}]}                                                                                                                                                                                                                                                                                                                                                                                                                                                                                                                                                                                                                                                                                                                                                                                                                                         1\n",
      "{'media': [{'id': 666804340162732032, 'id_str': '666804340162732032', 'indices': [112, 135], 'media_url': 'http://pbs.twimg.com/media/CUD3A7YWoAA82N0.jpg', 'media_url_https': 'https://pbs.twimg.com/media/CUD3A7YWoAA82N0.jpg', 'url': 'https://t.co/RdKbAOEpDK', 'display_url': 'pic.twitter.com/RdKbAOEpDK', 'expanded_url': 'https://twitter.com/dog_rates/status/666804364988780544/photo/1', 'type': 'photo', 'sizes': {'small': {'w': 510, 'h': 680, 'resize': 'fit'}, 'thumb': {'w': 150, 'h': 150, 'resize': 'crop'}, 'medium': {'w': 768, 'h': 1024, 'resize': 'fit'}, 'large': {'w': 768, 'h': 1024, 'resize': 'fit'}}}]}                                                                                                                                                                                                                                                                                                                                                                                                                                                                                                                                                                                                                                                                                                                                                                                                                                       1\n",
      "{'media': [{'id': 773704673102557184, 'id_str': '773704673102557184', 'indices': [107, 130], 'media_url': 'http://pbs.twimg.com/media/CrzATQlWcAATzWX.jpg', 'media_url_https': 'https://pbs.twimg.com/media/CrzATQlWcAATzWX.jpg', 'url': 'https://t.co/OqNggd4Oio', 'display_url': 'pic.twitter.com/OqNggd4Oio', 'expanded_url': 'https://twitter.com/dog_rates/status/773704687002451968/photo/1', 'type': 'photo', 'sizes': {'small': {'w': 535, 'h': 680, 'resize': 'fit'}, 'thumb': {'w': 150, 'h': 150, 'resize': 'crop'}, 'medium': {'w': 806, 'h': 1024, 'resize': 'fit'}, 'large': {'w': 806, 'h': 1024, 'resize': 'fit'}}}, {'id': 773704673123500033, 'id_str': '773704673123500033', 'indices': [107, 130], 'media_url': 'http://pbs.twimg.com/media/CrzATQqWAAEHq2t.jpg', 'media_url_https': 'https://pbs.twimg.com/media/CrzATQqWAAEHq2t.jpg', 'url': 'https://t.co/OqNggd4Oio', 'display_url': 'pic.twitter.com/OqNggd4Oio', 'expanded_url': 'https://twitter.com/dog_rates/status/773704687002451968/photo/1', 'type': 'photo', 'sizes': {'thumb': {'w': 150, 'h': 150, 'resize': 'crop'}, 'small': {'w': 510, 'h': 680, 'resize': 'fit'}, 'large': {'w': 768, 'h': 1024, 'resize': 'fit'}, 'medium': {'w': 768, 'h': 1024, 'resize': 'fit'}}}]}                                                                                                                                                                                                             1\n",
      "{'media': [{'id': 795464066940764160, 'id_str': '795464066940764160', 'indices': [55, 78], 'media_url': 'http://pbs.twimg.com/ext_tw_video_thumb/795464066940764160/pu/img/jPkMMQXdydb7CqFX.jpg', 'media_url_https': 'https://pbs.twimg.com/ext_tw_video_thumb/795464066940764160/pu/img/jPkMMQXdydb7CqFX.jpg', 'url': 'https://t.co/gBUDjdEcqz', 'display_url': 'pic.twitter.com/gBUDjdEcqz', 'expanded_url': 'https://twitter.com/dog_rates/status/795464331001561088/video/1', 'type': 'video', 'sizes': {'thumb': {'w': 150, 'h': 150, 'resize': 'crop'}, 'small': {'w': 383, 'h': 680, 'resize': 'fit'}, 'large': {'w': 720, 'h': 1280, 'resize': 'fit'}, 'medium': {'w': 675, 'h': 1200, 'resize': 'fit'}}, 'video_info': {'aspect_ratio': [9, 16], 'duration_millis': 15033, 'variants': [{'content_type': 'application/x-mpegURL', 'url': 'https://video.twimg.com/ext_tw_video/795464066940764160/pu/pl/_b0EAIvYVF8eivlT.m3u8'}, {'bitrate': 256000, 'content_type': 'video/mp4', 'url': 'https://video.twimg.com/ext_tw_video/795464066940764160/pu/vid/180x320/B_CLQyOu0qZol5Bi.mp4'}, {'bitrate': 2176000, 'content_type': 'video/mp4', 'url': 'https://video.twimg.com/ext_tw_video/795464066940764160/pu/vid/720x1280/FNHqB30qfAe1gQK3.mp4'}, {'bitrate': 832000, 'content_type': 'video/mp4', 'url': 'https://video.twimg.com/ext_tw_video/795464066940764160/pu/vid/360x640/Wz94X8j0YPVwkVD5.mp4'}]}, 'additional_media_info': {'monetizable': False}}]}    1\n",
      "{'media': [{'id': 666786064321900544, 'id_str': '666786064321900544', 'indices': [116, 139], 'media_url': 'http://pbs.twimg.com/media/CUDmZIkWcAAIPPe.jpg', 'media_url_https': 'https://pbs.twimg.com/media/CUDmZIkWcAAIPPe.jpg', 'url': 'https://t.co/EIn5kElY1S', 'display_url': 'pic.twitter.com/EIn5kElY1S', 'expanded_url': 'https://twitter.com/dog_rates/status/666786068205871104/photo/1', 'type': 'photo', 'sizes': {'thumb': {'w': 150, 'h': 150, 'resize': 'crop'}, 'small': {'w': 620, 'h': 387, 'resize': 'fit'}, 'large': {'w': 620, 'h': 387, 'resize': 'fit'}, 'medium': {'w': 620, 'h': 387, 'resize': 'fit'}}}]}                                                                                                                                                                                                                                                                                                                                                                                                                                                                                                                                                                                                                                                                                                                                                                                                                                         1\n",
      "                                                                                                                                                                                                                                                                                                                                                                                                                                                                                                                                                                                                                                                                                                                                                                                                                                                                                                                                                                                                                                                                                                                                                                                                                                                                                                                                                                                                                                                                           ..\n",
      "{'media': [{'id': 850380153985355777, 'id_str': '850380153985355777', 'indices': [141, 164], 'media_url': 'http://pbs.twimg.com/ext_tw_video_thumb/850380153985355777/pu/img/lFouhg-EZvJs8eMr.jpg', 'media_url_https': 'https://pbs.twimg.com/ext_tw_video_thumb/850380153985355777/pu/img/lFouhg-EZvJs8eMr.jpg', 'url': 'https://t.co/FXZQtBcnTO', 'display_url': 'pic.twitter.com/FXZQtBcnTO', 'expanded_url': 'https://twitter.com/dog_rates/status/850380195714523136/video/1', 'type': 'video', 'sizes': {'thumb': {'w': 150, 'h': 150, 'resize': 'crop'}, 'small': {'w': 544, 'h': 680, 'resize': 'fit'}, 'large': {'w': 640, 'h': 800, 'resize': 'fit'}, 'medium': {'w': 640, 'h': 800, 'resize': 'fit'}}, 'video_info': {'aspect_ratio': [4, 5], 'duration_millis': 11745, 'variants': [{'bitrate': 832000, 'content_type': 'video/mp4', 'url': 'https://video.twimg.com/ext_tw_video/850380153985355777/pu/vid/512x640/dC9FQ0C9qjS1-EY4.mp4'}, {'bitrate': 256000, 'content_type': 'video/mp4', 'url': 'https://video.twimg.com/ext_tw_video/850380153985355777/pu/vid/256x320/XI0LZIOnaHLYj1MS.mp4'}, {'content_type': 'application/x-mpegURL', 'url': 'https://video.twimg.com/ext_tw_video/850380153985355777/pu/pl/WHwPWTqDgzhgDyJs.m3u8'}]}, 'additional_media_info': {'monetizable': False}}]}                                                                                                                                                               1\n",
      "{'media': [{'id': 743980013133783040, 'id_str': '743980013133783040', 'indices': [116, 139], 'media_url': 'http://pbs.twimg.com/media/ClMl4VLUYAA5qBb.jpg', 'media_url_https': 'https://pbs.twimg.com/media/ClMl4VLUYAA5qBb.jpg', 'url': 'https://t.co/Kxda28JmQ2', 'display_url': 'pic.twitter.com/Kxda28JmQ2', 'expanded_url': 'https://twitter.com/dog_rates/status/743980027717509120/photo/1', 'type': 'photo', 'sizes': {'thumb': {'w': 150, 'h': 150, 'resize': 'crop'}, 'medium': {'w': 576, 'h': 1024, 'resize': 'fit'}, 'small': {'w': 383, 'h': 680, 'resize': 'fit'}, 'large': {'w': 576, 'h': 1024, 'resize': 'fit'}}}]}                                                                                                                                                                                                                                                                                                                                                                                                                                                                                                                                                                                                                                                                                                                                                                                                                                       1\n",
      "{'media': [{'id': 693231800538148864, 'id_str': '693231800538148864', 'indices': [117, 140], 'media_url': 'http://pbs.twimg.com/media/CZ7aplIUsAAq-8s.jpg', 'media_url_https': 'https://pbs.twimg.com/media/CZ7aplIUsAAq-8s.jpg', 'url': 'https://t.co/bpZsGMqVVP', 'display_url': 'pic.twitter.com/bpZsGMqVVP', 'expanded_url': 'https://twitter.com/dog_rates/status/693231807727280129/photo/1', 'type': 'photo', 'sizes': {'thumb': {'w': 150, 'h': 150, 'resize': 'crop'}, 'small': {'w': 510, 'h': 680, 'resize': 'fit'}, 'large': {'w': 768, 'h': 1024, 'resize': 'fit'}, 'medium': {'w': 768, 'h': 1024, 'resize': 'fit'}}}]}                                                                                                                                                                                                                                                                                                                                                                                                                                                                                                                                                                                                                                                                                                                                                                                                                                       1\n",
      "{'media': [{'id': 685325091882799104, 'id_str': '685325091882799104', 'indices': [88, 111], 'media_url': 'http://pbs.twimg.com/media/CYLDikFWEAAIy1y.jpg', 'media_url_https': 'https://pbs.twimg.com/media/CYLDikFWEAAIy1y.jpg', 'url': 'https://t.co/VGPH0TfESw', 'display_url': 'pic.twitter.com/VGPH0TfESw', 'expanded_url': 'https://twitter.com/dog_rates/status/685325112850124800/photo/1', 'type': 'photo', 'sizes': {'thumb': {'w': 150, 'h': 150, 'resize': 'crop'}, 'small': {'w': 510, 'h': 680, 'resize': 'fit'}, 'large': {'w': 768, 'h': 1024, 'resize': 'fit'}, 'medium': {'w': 768, 'h': 1024, 'resize': 'fit'}}}]}                                                                                                                                                                                                                                                                                                                                                                                                                                                                                                                                                                                                                                                                                                                                                                                                                                        1\n",
      "{'media': [{'id': 669993066573393920, 'id_str': '669993066573393920', 'indices': [102, 125], 'media_url': 'http://pbs.twimg.com/media/CUxLJO8U8AAu6Zu.jpg', 'media_url_https': 'https://pbs.twimg.com/media/CUxLJO8U8AAu6Zu.jpg', 'url': 'https://t.co/kR1fqy4NKK', 'display_url': 'pic.twitter.com/kR1fqy4NKK', 'expanded_url': 'https://twitter.com/dog_rates/status/669993076832759809/photo/1', 'type': 'photo', 'sizes': {'thumb': {'w': 150, 'h': 150, 'resize': 'crop'}, 'medium': {'w': 1024, 'h': 768, 'resize': 'fit'}, 'large': {'w': 1024, 'h': 768, 'resize': 'fit'}, 'small': {'w': 680, 'h': 510, 'resize': 'fit'}}}]}                                                                                                                                                                                                                                                                                                                                                                                                                                                                                                                                                                                                                                                                                                                                                                                                                                       1\n",
      "Name: extended_entities_capture, Length: 1964, dtype: int64\n",
      "\n",
      "source_capture:\n",
      "\n",
      "<a href=\"http://twitter.com/download/iphone\" rel=\"nofollow\">Twitter for iPhone</a>     1926\n",
      "<a href=\"http://twitter.com\" rel=\"nofollow\">Twitter Web Client</a>                       28\n",
      "<a href=\"https://about.twitter.com/products/tweetdeck\" rel=\"nofollow\">TweetDeck</a>      10\n",
      "Name: source_capture, dtype: int64\n",
      "\n",
      "user_capture:\n",
      "\n",
      "{'id': 4196983835, 'id_str': '4196983835', 'name': 'WeRateDogs®', 'screen_name': 'dog_rates', 'location': 'all our links and things ➜ ', 'description': 'Your Only Source For Professional Dog Ratings Instagram and Facebook ➜ WeRateDogs partnerships@weratedogs.com ⠀⠀⠀⠀⠀⠀⠀⠀⠀⠀⠀⠀', 'url': 'https://t.co/6ytGi24QCk', 'entities': {'url': {'urls': [{'url': 'https://t.co/6ytGi24QCk', 'expanded_url': 'http://campsite.bio/weratedogs', 'display_url': 'campsite.bio/weratedogs', 'indices': [0, 23]}]}, 'description': {'urls': []}}, 'protected': False, 'followers_count': 8912657, 'friends_count': 18, 'listed_count': 6118, 'created_at': 'Sun Nov 15 21:41:29 +0000 2015', 'favourites_count': 145942, 'utc_offset': None, 'time_zone': None, 'geo_enabled': True, 'verified': True, 'statuses_count': 13156, 'lang': None, 'contributors_enabled': False, 'is_translator': False, 'is_translation_enabled': False, 'profile_background_color': '000000', 'profile_background_image_url': 'http://abs.twimg.com/images/themes/theme1/bg.png', 'profile_background_image_url_https': 'https://abs.twimg.com/images/themes/theme1/bg.png', 'profile_background_tile': False, 'profile_image_url': 'http://pbs.twimg.com/profile_images/1322993722691211264/vyjR1ftm_normal.jpg', 'profile_image_url_https': 'https://pbs.twimg.com/profile_images/1322993722691211264/vyjR1ftm_normal.jpg', 'profile_banner_url': 'https://pbs.twimg.com/profile_banners/4196983835/1591077312', 'profile_link_color': 'F5ABB5', 'profile_sidebar_border_color': '000000', 'profile_sidebar_fill_color': '000000', 'profile_text_color': '000000', 'profile_use_background_image': False, 'has_extended_profile': False, 'default_profile': False, 'default_profile_image': False, 'following': False, 'follow_request_sent': False, 'notifications': False, 'translator_type': 'none'}    136\n",
      "{'id': 4196983835, 'id_str': '4196983835', 'name': 'WeRateDogs®', 'screen_name': 'dog_rates', 'location': 'all our links and things ➜ ', 'description': 'Your Only Source For Professional Dog Ratings Instagram and Facebook ➜ WeRateDogs partnerships@weratedogs.com ⠀⠀⠀⠀⠀⠀⠀⠀⠀⠀⠀⠀', 'url': 'https://t.co/6ytGi24QCk', 'entities': {'url': {'urls': [{'url': 'https://t.co/6ytGi24QCk', 'expanded_url': 'http://campsite.bio/weratedogs', 'display_url': 'campsite.bio/weratedogs', 'indices': [0, 23]}]}, 'description': {'urls': []}}, 'protected': False, 'followers_count': 8912641, 'friends_count': 18, 'listed_count': 6118, 'created_at': 'Sun Nov 15 21:41:29 +0000 2015', 'favourites_count': 145942, 'utc_offset': None, 'time_zone': None, 'geo_enabled': True, 'verified': True, 'statuses_count': 13156, 'lang': None, 'contributors_enabled': False, 'is_translator': False, 'is_translation_enabled': False, 'profile_background_color': '000000', 'profile_background_image_url': 'http://abs.twimg.com/images/themes/theme1/bg.png', 'profile_background_image_url_https': 'https://abs.twimg.com/images/themes/theme1/bg.png', 'profile_background_tile': False, 'profile_image_url': 'http://pbs.twimg.com/profile_images/1322993722691211264/vyjR1ftm_normal.jpg', 'profile_image_url_https': 'https://pbs.twimg.com/profile_images/1322993722691211264/vyjR1ftm_normal.jpg', 'profile_banner_url': 'https://pbs.twimg.com/profile_banners/4196983835/1591077312', 'profile_link_color': 'F5ABB5', 'profile_sidebar_border_color': '000000', 'profile_sidebar_fill_color': '000000', 'profile_text_color': '000000', 'profile_use_background_image': False, 'has_extended_profile': False, 'default_profile': False, 'default_profile_image': False, 'following': False, 'follow_request_sent': False, 'notifications': False, 'translator_type': 'none'}    118\n",
      "{'id': 4196983835, 'id_str': '4196983835', 'name': 'WeRateDogs®', 'screen_name': 'dog_rates', 'location': 'all our links and things ➜ ', 'description': 'Your Only Source For Professional Dog Ratings Instagram and Facebook ➜ WeRateDogs partnerships@weratedogs.com ⠀⠀⠀⠀⠀⠀⠀⠀⠀⠀⠀⠀', 'url': 'https://t.co/6ytGi24QCk', 'entities': {'url': {'urls': [{'url': 'https://t.co/6ytGi24QCk', 'expanded_url': 'http://campsite.bio/weratedogs', 'display_url': 'campsite.bio/weratedogs', 'indices': [0, 23]}]}, 'description': {'urls': []}}, 'protected': False, 'followers_count': 8912676, 'friends_count': 18, 'listed_count': 6118, 'created_at': 'Sun Nov 15 21:41:29 +0000 2015', 'favourites_count': 145942, 'utc_offset': None, 'time_zone': None, 'geo_enabled': True, 'verified': True, 'statuses_count': 13156, 'lang': None, 'contributors_enabled': False, 'is_translator': False, 'is_translation_enabled': False, 'profile_background_color': '000000', 'profile_background_image_url': 'http://abs.twimg.com/images/themes/theme1/bg.png', 'profile_background_image_url_https': 'https://abs.twimg.com/images/themes/theme1/bg.png', 'profile_background_tile': False, 'profile_image_url': 'http://pbs.twimg.com/profile_images/1322993722691211264/vyjR1ftm_normal.jpg', 'profile_image_url_https': 'https://pbs.twimg.com/profile_images/1322993722691211264/vyjR1ftm_normal.jpg', 'profile_banner_url': 'https://pbs.twimg.com/profile_banners/4196983835/1591077312', 'profile_link_color': 'F5ABB5', 'profile_sidebar_border_color': '000000', 'profile_sidebar_fill_color': '000000', 'profile_text_color': '000000', 'profile_use_background_image': False, 'has_extended_profile': False, 'default_profile': False, 'default_profile_image': False, 'following': False, 'follow_request_sent': False, 'notifications': False, 'translator_type': 'none'}    112\n",
      "{'id': 4196983835, 'id_str': '4196983835', 'name': 'WeRateDogs®', 'screen_name': 'dog_rates', 'location': 'all our links and things ➜ ', 'description': 'Your Only Source For Professional Dog Ratings Instagram and Facebook ➜ WeRateDogs partnerships@weratedogs.com ⠀⠀⠀⠀⠀⠀⠀⠀⠀⠀⠀⠀', 'url': 'https://t.co/6ytGi24QCk', 'entities': {'url': {'urls': [{'url': 'https://t.co/6ytGi24QCk', 'expanded_url': 'http://campsite.bio/weratedogs', 'display_url': 'campsite.bio/weratedogs', 'indices': [0, 23]}]}, 'description': {'urls': []}}, 'protected': False, 'followers_count': 8912670, 'friends_count': 18, 'listed_count': 6118, 'created_at': 'Sun Nov 15 21:41:29 +0000 2015', 'favourites_count': 145942, 'utc_offset': None, 'time_zone': None, 'geo_enabled': True, 'verified': True, 'statuses_count': 13156, 'lang': None, 'contributors_enabled': False, 'is_translator': False, 'is_translation_enabled': False, 'profile_background_color': '000000', 'profile_background_image_url': 'http://abs.twimg.com/images/themes/theme1/bg.png', 'profile_background_image_url_https': 'https://abs.twimg.com/images/themes/theme1/bg.png', 'profile_background_tile': False, 'profile_image_url': 'http://pbs.twimg.com/profile_images/1322993722691211264/vyjR1ftm_normal.jpg', 'profile_image_url_https': 'https://pbs.twimg.com/profile_images/1322993722691211264/vyjR1ftm_normal.jpg', 'profile_banner_url': 'https://pbs.twimg.com/profile_banners/4196983835/1591077312', 'profile_link_color': 'F5ABB5', 'profile_sidebar_border_color': '000000', 'profile_sidebar_fill_color': '000000', 'profile_text_color': '000000', 'profile_use_background_image': False, 'has_extended_profile': False, 'default_profile': False, 'default_profile_image': False, 'following': False, 'follow_request_sent': False, 'notifications': False, 'translator_type': 'none'}    101\n",
      "{'id': 4196983835, 'id_str': '4196983835', 'name': 'WeRateDogs®', 'screen_name': 'dog_rates', 'location': 'all our links and things ➜ ', 'description': 'Your Only Source For Professional Dog Ratings Instagram and Facebook ➜ WeRateDogs partnerships@weratedogs.com ⠀⠀⠀⠀⠀⠀⠀⠀⠀⠀⠀⠀', 'url': 'https://t.co/6ytGi24QCk', 'entities': {'url': {'urls': [{'url': 'https://t.co/6ytGi24QCk', 'expanded_url': 'http://campsite.bio/weratedogs', 'display_url': 'campsite.bio/weratedogs', 'indices': [0, 23]}]}, 'description': {'urls': []}}, 'protected': False, 'followers_count': 8912642, 'friends_count': 18, 'listed_count': 6118, 'created_at': 'Sun Nov 15 21:41:29 +0000 2015', 'favourites_count': 145942, 'utc_offset': None, 'time_zone': None, 'geo_enabled': True, 'verified': True, 'statuses_count': 13156, 'lang': None, 'contributors_enabled': False, 'is_translator': False, 'is_translation_enabled': False, 'profile_background_color': '000000', 'profile_background_image_url': 'http://abs.twimg.com/images/themes/theme1/bg.png', 'profile_background_image_url_https': 'https://abs.twimg.com/images/themes/theme1/bg.png', 'profile_background_tile': False, 'profile_image_url': 'http://pbs.twimg.com/profile_images/1322993722691211264/vyjR1ftm_normal.jpg', 'profile_image_url_https': 'https://pbs.twimg.com/profile_images/1322993722691211264/vyjR1ftm_normal.jpg', 'profile_banner_url': 'https://pbs.twimg.com/profile_banners/4196983835/1591077312', 'profile_link_color': 'F5ABB5', 'profile_sidebar_border_color': '000000', 'profile_sidebar_fill_color': '000000', 'profile_text_color': '000000', 'profile_use_background_image': False, 'has_extended_profile': False, 'default_profile': False, 'default_profile_image': False, 'following': False, 'follow_request_sent': False, 'notifications': False, 'translator_type': 'none'}     99\n",
      "                                                                                                                                                                                                                                                                                                                                                                                                                                                                                                                                                                                                                                                                                                                                                                                                                                                                                                                                                                                                                                                                                                                                                                                                                                                                                                                                                                                                                                                                                                                                                                                                                                                                                                                                                                                                                                                                                  ... \n",
      "{'id': 4196983835, 'id_str': '4196983835', 'name': 'WeRateDogs®', 'screen_name': 'dog_rates', 'location': 'all our links and things ➜ ', 'description': 'Your Only Source For Professional Dog Ratings Instagram and Facebook ➜ WeRateDogs partnerships@weratedogs.com ⠀⠀⠀⠀⠀⠀⠀⠀⠀⠀⠀⠀', 'url': 'https://t.co/6ytGi24QCk', 'entities': {'url': {'urls': [{'url': 'https://t.co/6ytGi24QCk', 'expanded_url': 'http://campsite.bio/weratedogs', 'display_url': 'campsite.bio/weratedogs', 'indices': [0, 23]}]}, 'description': {'urls': []}}, 'protected': False, 'followers_count': 8913314, 'friends_count': 18, 'listed_count': 6118, 'created_at': 'Sun Nov 15 21:41:29 +0000 2015', 'favourites_count': 145943, 'utc_offset': None, 'time_zone': None, 'geo_enabled': True, 'verified': True, 'statuses_count': 13156, 'lang': None, 'contributors_enabled': False, 'is_translator': False, 'is_translation_enabled': False, 'profile_background_color': '000000', 'profile_background_image_url': 'http://abs.twimg.com/images/themes/theme1/bg.png', 'profile_background_image_url_https': 'https://abs.twimg.com/images/themes/theme1/bg.png', 'profile_background_tile': False, 'profile_image_url': 'http://pbs.twimg.com/profile_images/1322993722691211264/vyjR1ftm_normal.jpg', 'profile_image_url_https': 'https://pbs.twimg.com/profile_images/1322993722691211264/vyjR1ftm_normal.jpg', 'profile_banner_url': 'https://pbs.twimg.com/profile_banners/4196983835/1591077312', 'profile_link_color': 'F5ABB5', 'profile_sidebar_border_color': '000000', 'profile_sidebar_fill_color': '000000', 'profile_text_color': '000000', 'profile_use_background_image': False, 'has_extended_profile': False, 'default_profile': False, 'default_profile_image': False, 'following': False, 'follow_request_sent': False, 'notifications': False, 'translator_type': 'none'}      1\n",
      "{'id': 4196983835, 'id_str': '4196983835', 'name': 'WeRateDogs®', 'screen_name': 'dog_rates', 'location': 'all our links and things ➜ ', 'description': 'Your Only Source For Professional Dog Ratings Instagram and Facebook ➜ WeRateDogs partnerships@weratedogs.com ⠀⠀⠀⠀⠀⠀⠀⠀⠀⠀⠀⠀', 'url': 'https://t.co/6ytGi24QCk', 'entities': {'url': {'urls': [{'url': 'https://t.co/6ytGi24QCk', 'expanded_url': 'http://campsite.bio/weratedogs', 'display_url': 'campsite.bio/weratedogs', 'indices': [0, 23]}]}, 'description': {'urls': []}}, 'protected': False, 'followers_count': 8913316, 'friends_count': 18, 'listed_count': 6118, 'created_at': 'Sun Nov 15 21:41:29 +0000 2015', 'favourites_count': 145943, 'utc_offset': None, 'time_zone': None, 'geo_enabled': True, 'verified': True, 'statuses_count': 13156, 'lang': None, 'contributors_enabled': False, 'is_translator': False, 'is_translation_enabled': False, 'profile_background_color': '000000', 'profile_background_image_url': 'http://abs.twimg.com/images/themes/theme1/bg.png', 'profile_background_image_url_https': 'https://abs.twimg.com/images/themes/theme1/bg.png', 'profile_background_tile': False, 'profile_image_url': 'http://pbs.twimg.com/profile_images/1322993722691211264/vyjR1ftm_normal.jpg', 'profile_image_url_https': 'https://pbs.twimg.com/profile_images/1322993722691211264/vyjR1ftm_normal.jpg', 'profile_banner_url': 'https://pbs.twimg.com/profile_banners/4196983835/1591077312', 'profile_link_color': 'F5ABB5', 'profile_sidebar_border_color': '000000', 'profile_sidebar_fill_color': '000000', 'profile_text_color': '000000', 'profile_use_background_image': False, 'has_extended_profile': False, 'default_profile': False, 'default_profile_image': False, 'following': False, 'follow_request_sent': False, 'notifications': False, 'translator_type': 'none'}      1\n",
      "{'id': 4196983835, 'id_str': '4196983835', 'name': 'WeRateDogs®', 'screen_name': 'dog_rates', 'location': 'all our links and things ➜ ', 'description': 'Your Only Source For Professional Dog Ratings Instagram and Facebook ➜ WeRateDogs partnerships@weratedogs.com ⠀⠀⠀⠀⠀⠀⠀⠀⠀⠀⠀⠀', 'url': 'https://t.co/6ytGi24QCk', 'entities': {'url': {'urls': [{'url': 'https://t.co/6ytGi24QCk', 'expanded_url': 'http://campsite.bio/weratedogs', 'display_url': 'campsite.bio/weratedogs', 'indices': [0, 23]}]}, 'description': {'urls': []}}, 'protected': False, 'followers_count': 8913288, 'friends_count': 18, 'listed_count': 6118, 'created_at': 'Sun Nov 15 21:41:29 +0000 2015', 'favourites_count': 145943, 'utc_offset': None, 'time_zone': None, 'geo_enabled': True, 'verified': True, 'statuses_count': 13156, 'lang': None, 'contributors_enabled': False, 'is_translator': False, 'is_translation_enabled': False, 'profile_background_color': '000000', 'profile_background_image_url': 'http://abs.twimg.com/images/themes/theme1/bg.png', 'profile_background_image_url_https': 'https://abs.twimg.com/images/themes/theme1/bg.png', 'profile_background_tile': False, 'profile_image_url': 'http://pbs.twimg.com/profile_images/1322993722691211264/vyjR1ftm_normal.jpg', 'profile_image_url_https': 'https://pbs.twimg.com/profile_images/1322993722691211264/vyjR1ftm_normal.jpg', 'profile_banner_url': 'https://pbs.twimg.com/profile_banners/4196983835/1591077312', 'profile_link_color': 'F5ABB5', 'profile_sidebar_border_color': '000000', 'profile_sidebar_fill_color': '000000', 'profile_text_color': '000000', 'profile_use_background_image': False, 'has_extended_profile': False, 'default_profile': False, 'default_profile_image': False, 'following': False, 'follow_request_sent': False, 'notifications': False, 'translator_type': 'none'}      1\n",
      "{'id': 4196983835, 'id_str': '4196983835', 'name': 'WeRateDogs®', 'screen_name': 'dog_rates', 'location': 'all our links and things ➜ ', 'description': 'Your Only Source For Professional Dog Ratings Instagram and Facebook ➜ WeRateDogs partnerships@weratedogs.com ⠀⠀⠀⠀⠀⠀⠀⠀⠀⠀⠀⠀', 'url': 'https://t.co/6ytGi24QCk', 'entities': {'url': {'urls': [{'url': 'https://t.co/6ytGi24QCk', 'expanded_url': 'http://campsite.bio/weratedogs', 'display_url': 'campsite.bio/weratedogs', 'indices': [0, 23]}]}, 'description': {'urls': []}}, 'protected': False, 'followers_count': 8913293, 'friends_count': 18, 'listed_count': 6118, 'created_at': 'Sun Nov 15 21:41:29 +0000 2015', 'favourites_count': 145943, 'utc_offset': None, 'time_zone': None, 'geo_enabled': True, 'verified': True, 'statuses_count': 13156, 'lang': None, 'contributors_enabled': False, 'is_translator': False, 'is_translation_enabled': False, 'profile_background_color': '000000', 'profile_background_image_url': 'http://abs.twimg.com/images/themes/theme1/bg.png', 'profile_background_image_url_https': 'https://abs.twimg.com/images/themes/theme1/bg.png', 'profile_background_tile': False, 'profile_image_url': 'http://pbs.twimg.com/profile_images/1322993722691211264/vyjR1ftm_normal.jpg', 'profile_image_url_https': 'https://pbs.twimg.com/profile_images/1322993722691211264/vyjR1ftm_normal.jpg', 'profile_banner_url': 'https://pbs.twimg.com/profile_banners/4196983835/1591077312', 'profile_link_color': 'F5ABB5', 'profile_sidebar_border_color': '000000', 'profile_sidebar_fill_color': '000000', 'profile_text_color': '000000', 'profile_use_background_image': False, 'has_extended_profile': False, 'default_profile': False, 'default_profile_image': False, 'following': False, 'follow_request_sent': False, 'notifications': False, 'translator_type': 'none'}      1\n",
      "{'id': 4196983835, 'id_str': '4196983835', 'name': 'WeRateDogs®', 'screen_name': 'dog_rates', 'location': 'all our links and things ➜ ', 'description': 'Your Only Source For Professional Dog Ratings Instagram and Facebook ➜ WeRateDogs partnerships@weratedogs.com ⠀⠀⠀⠀⠀⠀⠀⠀⠀⠀⠀⠀', 'url': 'https://t.co/6ytGi24QCk', 'entities': {'url': {'urls': [{'url': 'https://t.co/6ytGi24QCk', 'expanded_url': 'http://campsite.bio/weratedogs', 'display_url': 'campsite.bio/weratedogs', 'indices': [0, 23]}]}, 'description': {'urls': []}}, 'protected': False, 'followers_count': 8912682, 'friends_count': 18, 'listed_count': 6118, 'created_at': 'Sun Nov 15 21:41:29 +0000 2015', 'favourites_count': 145942, 'utc_offset': None, 'time_zone': None, 'geo_enabled': True, 'verified': True, 'statuses_count': 13156, 'lang': None, 'contributors_enabled': False, 'is_translator': False, 'is_translation_enabled': False, 'profile_background_color': '000000', 'profile_background_image_url': 'http://abs.twimg.com/images/themes/theme1/bg.png', 'profile_background_image_url_https': 'https://abs.twimg.com/images/themes/theme1/bg.png', 'profile_background_tile': False, 'profile_image_url': 'http://pbs.twimg.com/profile_images/1322993722691211264/vyjR1ftm_normal.jpg', 'profile_image_url_https': 'https://pbs.twimg.com/profile_images/1322993722691211264/vyjR1ftm_normal.jpg', 'profile_banner_url': 'https://pbs.twimg.com/profile_banners/4196983835/1591077312', 'profile_link_color': 'F5ABB5', 'profile_sidebar_border_color': '000000', 'profile_sidebar_fill_color': '000000', 'profile_text_color': '000000', 'profile_use_background_image': False, 'has_extended_profile': False, 'default_profile': False, 'default_profile_image': False, 'following': False, 'follow_request_sent': False, 'notifications': False, 'translator_type': 'none'}      1\n",
      "Name: user_capture, Length: 72, dtype: int64\n",
      "\n",
      "place_capture:\n",
      "\n",
      "{'id': '7356b662670b2c31', 'url': 'https://api.twitter.com/1.1/geo/id/7356b662670b2c31.json', 'place_type': 'city', 'name': 'Clifton', 'full_name': 'Clifton, NJ', 'country_code': 'US', 'country': 'United States', 'contained_within': [], 'bounding_box': {'type': 'Polygon', 'coordinates': [[[-74.1977277, 40.82028], [-74.118533, 40.82028], [-74.118533, 40.899384], [-74.1977277, 40.899384]]]}, 'attributes': {}}    1\n",
      "Name: place_capture, dtype: int64\n",
      "\n",
      "is_quote_status_capture:\n",
      "\n",
      "False    1964\n",
      "Name: is_quote_status_capture, dtype: int64\n",
      "\n",
      "retweet_count_capture:\n",
      "\n",
      "267.0     6\n",
      "506.0     5\n",
      "441.0     5\n",
      "51.0      5\n",
      "81.0      4\n",
      "         ..\n",
      "1725.0    1\n",
      "8273.0    1\n",
      "3515.0    1\n",
      "3266.0    1\n",
      "8224.0    1\n",
      "Name: retweet_count_capture, Length: 1557, dtype: int64\n",
      "\n",
      "favorite_count_capture:\n",
      "\n",
      "1037.0     4\n",
      "312.0      4\n",
      "2715.0     3\n",
      "2355.0     3\n",
      "1112.0     3\n",
      "          ..\n",
      "6706.0     1\n",
      "4158.0     1\n",
      "7829.0     1\n",
      "11109.0    1\n",
      "20864.0    1\n",
      "Name: favorite_count_capture, Length: 1807, dtype: int64\n",
      "\n",
      "favorited_capture:\n",
      "\n",
      "False    1964\n",
      "Name: favorited_capture, dtype: int64\n",
      "\n",
      "retweeted_capture:\n",
      "\n",
      "False    1964\n",
      "Name: retweeted_capture, dtype: int64\n",
      "\n",
      "possibly_sensitive_capture:\n",
      "\n",
      "0.0    1964\n",
      "Name: possibly_sensitive_capture, dtype: int64\n",
      "\n",
      "possibly_sensitive_appealable_capture:\n",
      "\n",
      "0.0    1964\n",
      "Name: possibly_sensitive_appealable_capture, dtype: int64\n",
      "\n",
      "lang_capture:\n",
      "\n",
      "en    1957\n",
      "nl       3\n",
      "in       2\n",
      "eu       1\n",
      "et       1\n",
      "Name: lang_capture, dtype: int64\n",
      "\n",
      "tweet_id__images:\n",
      "\n",
      "8.653594e+17    1\n",
      "8.896654e+17    1\n",
      "8.399903e+17    1\n",
      "8.500198e+17    1\n",
      "7.771898e+17    1\n",
      "               ..\n",
      "8.119856e+17    1\n",
      "6.678738e+17    1\n",
      "7.309247e+17    1\n",
      "7.529173e+17    1\n",
      "7.827471e+17    1\n",
      "Name: tweet_id__images, Length: 1964, dtype: int64\n",
      "\n",
      "jpg_url__images:\n",
      "\n",
      "https://pbs.twimg.com/media/CYF3TSlWMAAaoG5.jpg                                            1\n",
      "https://pbs.twimg.com/media/CVmE_fAWIAAlDhU.jpg                                            1\n",
      "https://pbs.twimg.com/media/CUrFUvDVAAA9H-F.jpg                                            1\n",
      "https://pbs.twimg.com/media/CT-aggCXAAIMfT3.jpg                                            1\n",
      "https://pbs.twimg.com/media/DAZAUfBXcAAG_Nn.jpg                                            1\n",
      "                                                                                          ..\n",
      "https://pbs.twimg.com/media/Cb8lWafWEAA2q93.jpg                                            1\n",
      "https://pbs.twimg.com/ext_tw_video_thumb/875144175078957056/pu/img/BRi_l7vUdpb93Knf.jpg    1\n",
      "https://pbs.twimg.com/media/CURoLrOVEAAaWdR.jpg                                            1\n",
      "https://pbs.twimg.com/media/C2n5rUUXEAIXAtv.jpg                                            1\n",
      "https://pbs.twimg.com/ext_tw_video_thumb/821407155391725568/pu/img/AJC07gFJDDBuwNTD.jpg    1\n",
      "Name: jpg_url__images, Length: 1964, dtype: int64\n",
      "\n",
      "img_num__images:\n",
      "\n",
      "1.0    1686\n",
      "2.0     189\n",
      "3.0      59\n",
      "4.0      30\n",
      "Name: img_num__images, dtype: int64\n",
      "\n",
      "p1__images:\n",
      "\n",
      "golden_retriever      137\n",
      "Labrador_retriever     92\n",
      "Pembroke               88\n",
      "Chihuahua              78\n",
      "pug                    54\n",
      "                     ... \n",
      "sandbar                 1\n",
      "upright                 1\n",
      "cowboy_boot             1\n",
      "king_penguin            1\n",
      "book_jacket             1\n",
      "Name: p1__images, Length: 373, dtype: int64\n",
      "\n",
      "p1_conf__images:\n",
      "\n",
      "0.786089    2\n",
      "0.240602    2\n",
      "0.873233    2\n",
      "0.445334    1\n",
      "0.240591    1\n",
      "           ..\n",
      "0.929266    1\n",
      "0.482401    1\n",
      "0.998021    1\n",
      "0.240173    1\n",
      "1.000000    1\n",
      "Name: p1_conf__images, Length: 1961, dtype: int64\n",
      "\n",
      "p1_dog__images:\n",
      "\n",
      "True     1456\n",
      "False     508\n",
      "Name: p1_dog__images, dtype: int64\n",
      "\n",
      "p2__images:\n",
      "\n",
      "Labrador_retriever          95\n",
      "golden_retriever            81\n",
      "Cardigan                    72\n",
      "Chihuahua                   43\n",
      "Chesapeake_Bay_retriever    40\n",
      "                            ..\n",
      "African_hunting_dog          1\n",
      "soccer_ball                  1\n",
      "police_van                   1\n",
      "platypus                     1\n",
      "indri                        1\n",
      "Name: p2__images, Length: 397, dtype: int64\n",
      "\n",
      "p2_conf__images:\n",
      "\n",
      "0.153126    2\n",
      "0.108382    2\n",
      "0.345298    2\n",
      "0.069362    2\n",
      "0.150487    2\n",
      "           ..\n",
      "0.137174    1\n",
      "0.206576    1\n",
      "0.040783    1\n",
      "0.080419    1\n",
      "0.016301    1\n",
      "Name: p2_conf__images, Length: 1959, dtype: int64\n",
      "\n",
      "p2_dog__images:\n",
      "\n",
      "True     1473\n",
      "False     491\n",
      "Name: p2_dog__images, dtype: int64\n",
      "\n",
      "p3__images:\n",
      "\n",
      "Labrador_retriever    76\n",
      "Chihuahua             57\n",
      "golden_retriever      45\n",
      "Eskimo_dog            36\n",
      "kelpie                33\n",
      "                      ..\n",
      "jaguar                 1\n",
      "boathouse              1\n",
      "consomme               1\n",
      "steam_locomotive       1\n",
      "book_jacket            1\n",
      "Name: p3__images, Length: 403, dtype: int64\n",
      "\n",
      "p3_conf__images:\n",
      "\n",
      "0.157130    2\n",
      "0.101420    2\n",
      "0.063703    1\n",
      "0.031218    1\n",
      "0.025874    1\n",
      "           ..\n",
      "0.062050    1\n",
      "0.001181    1\n",
      "0.015965    1\n",
      "0.151631    1\n",
      "0.033835    1\n",
      "Name: p3_conf__images, Length: 1962, dtype: int64\n",
      "\n",
      "p3_dog__images:\n",
      "\n",
      "True     1424\n",
      "False     540\n",
      "Name: p3_dog__images, dtype: int64\n"
     ]
    }
   ],
   "source": [
    "for column in merged_clean.columns:\n",
    "    print(f'\\n{column}:\\n')\n",
    "    print(merged_clean[column].value_counts())"
   ]
  },
  {
   "cell_type": "markdown",
   "metadata": {},
   "source": [
    "##### Code"
   ]
  },
  {
   "cell_type": "code",
   "execution_count": 25,
   "metadata": {},
   "outputs": [],
   "source": [
    "#drop useless columns\n",
    "useless_list = ['source_archive', 'truncated_capture', 'display_text_range_capture', 'entities_capture', 'extended_entities_capture', 'source_capture', 'user_capture', 'place_capture', 'is_quote_status_capture', 'favorited_capture', 'retweeted_capture', 'possibly_sensitive_capture', 'possibly_sensitive_appealable_capture', 'lang_capture', 'in_reply_to_screen_name_capture']\n",
    "\n",
    "merged_clean = merged_clean.drop(columns=useless_list, errors='ignore')"
   ]
  },
  {
   "cell_type": "markdown",
   "metadata": {},
   "source": [
    "##### Test"
   ]
  },
  {
   "cell_type": "code",
   "execution_count": 26,
   "metadata": {},
   "outputs": [
    {
     "name": "stdout",
     "output_type": "stream",
     "text": [
      "0 useless columns remaining\n"
     ]
    }
   ],
   "source": [
    "#check if columns in the useless list are dropped\n",
    "i = 0\n",
    "for column in useless_list:\n",
    "    if column in merged_clean.columns:\n",
    "        i+=1\n",
    "print(f'{i} useless columns remaining')"
   ]
  },
  {
   "cell_type": "markdown",
   "metadata": {},
   "source": [
    "#### 6. (Quality Issue) Timestamp dtype incorrect"
   ]
  },
  {
   "cell_type": "code",
   "execution_count": 27,
   "metadata": {},
   "outputs": [
    {
     "data": {
      "text/plain": [
       "dtype('O')"
      ]
     },
     "execution_count": 27,
     "metadata": {},
     "output_type": "execute_result"
    }
   ],
   "source": [
    "merged_clean['timestamp_archive'].dtype"
   ]
  },
  {
   "cell_type": "code",
   "execution_count": 28,
   "metadata": {},
   "outputs": [],
   "source": [
    "merged_clean['timestamp_archive'] = pd.to_datetime(merged_clean.timestamp_archive)"
   ]
  },
  {
   "cell_type": "markdown",
   "metadata": {},
   "source": [
    "##### Test"
   ]
  },
  {
   "cell_type": "code",
   "execution_count": 29,
   "metadata": {},
   "outputs": [
    {
     "data": {
      "text/plain": [
       "datetime64[ns, UTC]"
      ]
     },
     "execution_count": 29,
     "metadata": {},
     "output_type": "execute_result"
    }
   ],
   "source": [
    "merged_clean['timestamp_archive'].dtype"
   ]
  },
  {
   "cell_type": "markdown",
   "metadata": {},
   "source": [
    "#### 7. (Quality Issue) Deal with duplicated columns due to different data sets"
   ]
  },
  {
   "cell_type": "markdown",
   "metadata": {},
   "source": [
    "##### Code"
   ]
  },
  {
   "cell_type": "code",
   "execution_count": 30,
   "metadata": {},
   "outputs": [
    {
     "name": "stdout",
     "output_type": "stream",
     "text": [
      "id_capture is a duplicate\n",
      "id_str_capture is a duplicate\n",
      "tweet_id__images is a duplicate\n",
      "created_at_capture is a duplicate\n",
      "full_text_capture is a duplicate\n",
      "5 duplicate columns found\n"
     ]
    }
   ],
   "source": [
    "#6 Deal with duplicated columns due to different data sets\n",
    "used_column =[]\n",
    "duplicated = []\n",
    "for column1 in merged_clean.columns:\n",
    "    used_column.append(column1)\n",
    "    for column2 in merged_clean.columns:\n",
    "        if (column1 == column2) or (column2 in used_column) or (column2 in duplicated):\n",
    "            continue\n",
    "        if (merged_clean[column1] == merged_clean[column2]).sum() == merged_clean[column2].notna().sum():\n",
    "            print(f'{column2} is a duplicate')\n",
    "            duplicated.append(column2)\n",
    "print(f'{len(duplicated)} duplicate columns found')\n",
    "merged_clean = merged_clean.drop(columns=duplicated, errors='ignore')\n",
    "\n",
    "#clean appended part to column names\n",
    "merged_clean.rename(columns=(lambda x: x.replace('_archive','').replace('_capture','').replace('__images','')), inplace=True)"
   ]
  },
  {
   "cell_type": "markdown",
   "metadata": {},
   "source": [
    "##### Test"
   ]
  },
  {
   "cell_type": "code",
   "execution_count": 31,
   "metadata": {},
   "outputs": [
    {
     "name": "stdout",
     "output_type": "stream",
     "text": [
      "0 duplicate columns remaining\n"
     ]
    }
   ],
   "source": [
    "#check if columns in the useless list are dropped\n",
    "i = 0\n",
    "for column in duplicated:\n",
    "    if column in merged_clean.columns:\n",
    "        i+=1\n",
    "print(f'{i} duplicate columns remaining')"
   ]
  },
  {
   "cell_type": "markdown",
   "metadata": {},
   "source": [
    "#### 8. (Quality Issue) Clean data dtypes (string = False because string raises keyerror when plotting)"
   ]
  },
  {
   "cell_type": "code",
   "execution_count": 32,
   "metadata": {},
   "outputs": [
    {
     "name": "stdout",
     "output_type": "stream",
     "text": [
      "<class 'pandas.core.frame.DataFrame'>\n",
      "Int64Index: 1964 entries, 0 to 2355\n",
      "Data columns (total 24 columns):\n",
      " #   Column              Non-Null Count  Dtype              \n",
      "---  ------              --------------  -----              \n",
      " 0   tweet_id            1964 non-null   int64              \n",
      " 1   timestamp           1964 non-null   datetime64[ns, UTC]\n",
      " 2   text                1964 non-null   object             \n",
      " 3   expanded_urls       1964 non-null   object             \n",
      " 4   rating_numerator    1964 non-null   int64              \n",
      " 5   rating_denominator  1964 non-null   int64              \n",
      " 6   name                1964 non-null   object             \n",
      " 7   doggo               1964 non-null   object             \n",
      " 8   floofer             1964 non-null   object             \n",
      " 9   pupper              1964 non-null   object             \n",
      " 10  puppo               1964 non-null   object             \n",
      " 11  retweet_count       1964 non-null   float64            \n",
      " 12  favorite_count      1964 non-null   float64            \n",
      " 13  jpg_url             1964 non-null   object             \n",
      " 14  img_num             1964 non-null   float64            \n",
      " 15  p1                  1964 non-null   object             \n",
      " 16  p1_conf             1964 non-null   float64            \n",
      " 17  p1_dog              1964 non-null   object             \n",
      " 18  p2                  1964 non-null   object             \n",
      " 19  p2_conf             1964 non-null   float64            \n",
      " 20  p2_dog              1964 non-null   object             \n",
      " 21  p3                  1964 non-null   object             \n",
      " 22  p3_conf             1964 non-null   float64            \n",
      " 23  p3_dog              1964 non-null   object             \n",
      "dtypes: datetime64[ns, UTC](1), float64(6), int64(3), object(14)\n",
      "memory usage: 383.6+ KB\n"
     ]
    }
   ],
   "source": [
    "merged_clean.info()"
   ]
  },
  {
   "cell_type": "markdown",
   "metadata": {},
   "source": [
    "##### Code"
   ]
  },
  {
   "cell_type": "code",
   "execution_count": 33,
   "metadata": {},
   "outputs": [],
   "source": [
    "merged_clean = merged_clean.convert_dtypes(convert_string=False)"
   ]
  },
  {
   "cell_type": "markdown",
   "metadata": {},
   "source": [
    "##### Test"
   ]
  },
  {
   "cell_type": "code",
   "execution_count": 34,
   "metadata": {},
   "outputs": [
    {
     "name": "stdout",
     "output_type": "stream",
     "text": [
      "<class 'pandas.core.frame.DataFrame'>\n",
      "Int64Index: 1964 entries, 0 to 2355\n",
      "Data columns (total 24 columns):\n",
      " #   Column              Non-Null Count  Dtype              \n",
      "---  ------              --------------  -----              \n",
      " 0   tweet_id            1964 non-null   Int64              \n",
      " 1   timestamp           1964 non-null   datetime64[ns, UTC]\n",
      " 2   text                1964 non-null   object             \n",
      " 3   expanded_urls       1964 non-null   object             \n",
      " 4   rating_numerator    1964 non-null   Int64              \n",
      " 5   rating_denominator  1964 non-null   Int64              \n",
      " 6   name                1964 non-null   object             \n",
      " 7   doggo               1964 non-null   object             \n",
      " 8   floofer             1964 non-null   object             \n",
      " 9   pupper              1964 non-null   object             \n",
      " 10  puppo               1964 non-null   object             \n",
      " 11  retweet_count       1964 non-null   Int64              \n",
      " 12  favorite_count      1964 non-null   Int64              \n",
      " 13  jpg_url             1964 non-null   object             \n",
      " 14  img_num             1964 non-null   Int64              \n",
      " 15  p1                  1964 non-null   object             \n",
      " 16  p1_conf             1964 non-null   float64            \n",
      " 17  p1_dog              1964 non-null   boolean            \n",
      " 18  p2                  1964 non-null   object             \n",
      " 19  p2_conf             1964 non-null   float64            \n",
      " 20  p2_dog              1964 non-null   boolean            \n",
      " 21  p3                  1964 non-null   object             \n",
      " 22  p3_conf             1964 non-null   float64            \n",
      " 23  p3_dog              1964 non-null   boolean            \n",
      "dtypes: Int64(6), boolean(3), datetime64[ns, UTC](1), float64(3), object(11)\n",
      "memory usage: 360.6+ KB\n"
     ]
    }
   ],
   "source": [
    "merged_clean.info()"
   ]
  },
  {
   "cell_type": "markdown",
   "metadata": {},
   "source": [
    "##### Check info after cleaning quality issues"
   ]
  },
  {
   "cell_type": "code",
   "execution_count": 35,
   "metadata": {},
   "outputs": [
    {
     "name": "stdout",
     "output_type": "stream",
     "text": [
      "<class 'pandas.core.frame.DataFrame'>\n",
      "Int64Index: 1964 entries, 0 to 2355\n",
      "Data columns (total 24 columns):\n",
      " #   Column              Non-Null Count  Dtype              \n",
      "---  ------              --------------  -----              \n",
      " 0   tweet_id            1964 non-null   Int64              \n",
      " 1   timestamp           1964 non-null   datetime64[ns, UTC]\n",
      " 2   text                1964 non-null   object             \n",
      " 3   expanded_urls       1964 non-null   object             \n",
      " 4   rating_numerator    1964 non-null   Int64              \n",
      " 5   rating_denominator  1964 non-null   Int64              \n",
      " 6   name                1964 non-null   object             \n",
      " 7   doggo               1964 non-null   object             \n",
      " 8   floofer             1964 non-null   object             \n",
      " 9   pupper              1964 non-null   object             \n",
      " 10  puppo               1964 non-null   object             \n",
      " 11  retweet_count       1964 non-null   Int64              \n",
      " 12  favorite_count      1964 non-null   Int64              \n",
      " 13  jpg_url             1964 non-null   object             \n",
      " 14  img_num             1964 non-null   Int64              \n",
      " 15  p1                  1964 non-null   object             \n",
      " 16  p1_conf             1964 non-null   float64            \n",
      " 17  p1_dog              1964 non-null   boolean            \n",
      " 18  p2                  1964 non-null   object             \n",
      " 19  p2_conf             1964 non-null   float64            \n",
      " 20  p2_dog              1964 non-null   boolean            \n",
      " 21  p3                  1964 non-null   object             \n",
      " 22  p3_conf             1964 non-null   float64            \n",
      " 23  p3_dog              1964 non-null   boolean            \n",
      "dtypes: Int64(6), boolean(3), datetime64[ns, UTC](1), float64(3), object(11)\n",
      "memory usage: 360.6+ KB\n"
     ]
    }
   ],
   "source": [
    "merged_clean.info()"
   ]
  },
  {
   "cell_type": "markdown",
   "metadata": {},
   "source": [
    "#### 9. (Tidiness Issues) Create new column that combines dog stage (doggo, floofer,pupper,puppo)"
   ]
  },
  {
   "cell_type": "markdown",
   "metadata": {},
   "source": [
    "##### Code"
   ]
  },
  {
   "cell_type": "code",
   "execution_count": 36,
   "metadata": {},
   "outputs": [
    {
     "data": {
      "text/plain": [
       "                   1662\n",
       "  pupper            201\n",
       "doggo                62\n",
       "   puppo             22\n",
       "doggo  pupper         8\n",
       " floofer              7\n",
       "doggo   puppo         1\n",
       "doggo floofer         1\n",
       "Name: stage, dtype: int64"
      ]
     },
     "execution_count": 36,
     "metadata": {},
     "output_type": "execute_result"
    }
   ],
   "source": [
    "merged_tidy = merged_clean.copy()\n",
    "\n",
    "stage_list = ['doggo','floofer','pupper','puppo']\n",
    "for column in stage_list:\n",
    "    merged_tidy.loc[merged_tidy[column] == \"None\", column] = ''\n",
    "# merge the four columns into one \n",
    "merged_tidy['stage'] = merged_tidy.doggo+' '+merged_tidy.floofer+' '+merged_tidy.pupper+' '+merged_tidy.puppo\n",
    "merged_tidy['stage'].value_counts()"
   ]
  },
  {
   "cell_type": "code",
   "execution_count": 37,
   "metadata": {},
   "outputs": [],
   "source": [
    "#Clean messy representations after merging \n",
    "merged_tidy['stage'] = merged_tidy['stage'].apply(lambda x: '-'.join(x.title().split()))\n",
    "merged_tidy.loc[merged_tidy.stage == '', 'stage'] = 'None'\n",
    "# Drop the four separate columns\n",
    "merged_tidy = merged_tidy.drop(columns=stage_list, errors='ignore')"
   ]
  },
  {
   "cell_type": "markdown",
   "metadata": {},
   "source": [
    "##### Test"
   ]
  },
  {
   "cell_type": "code",
   "execution_count": 38,
   "metadata": {},
   "outputs": [
    {
     "data": {
      "text/plain": [
       "None             1662\n",
       "Pupper            201\n",
       "Doggo              62\n",
       "Puppo              22\n",
       "Doggo-Pupper        8\n",
       "Floofer             7\n",
       "Doggo-Puppo         1\n",
       "Doggo-Floofer       1\n",
       "Name: stage, dtype: int64"
      ]
     },
     "execution_count": 38,
     "metadata": {},
     "output_type": "execute_result"
    }
   ],
   "source": [
    "#Show clean representation\n",
    "merged_tidy['stage'].value_counts()"
   ]
  },
  {
   "cell_type": "code",
   "execution_count": 39,
   "metadata": {},
   "outputs": [
    {
     "name": "stdout",
     "output_type": "stream",
     "text": [
      "0 useless stage columns remaining\n"
     ]
    }
   ],
   "source": [
    "#check if columns in the useless list are dropped\n",
    "i = 0\n",
    "for column in stage_list:\n",
    "    if column in merged_tidy.columns:\n",
    "        i+=1\n",
    "print(f'{i} useless stage columns remaining')"
   ]
  },
  {
   "cell_type": "markdown",
   "metadata": {},
   "source": [
    "#### 10- (Quality Issue) clean stage data that has double types visually"
   ]
  },
  {
   "cell_type": "markdown",
   "metadata": {},
   "source": [
    "##### Code"
   ]
  },
  {
   "cell_type": "code",
   "execution_count": 40,
   "metadata": {},
   "outputs": [
    {
     "name": "stdout",
     "output_type": "stream",
     "text": [
      "\n",
      "Doggo-Puppo 191:\n",
      "Here's a puppo participating in the #ScienceMarch. Cleverly disguising her own doggo agenda. 13/10 would keep the planet habitable for https://t.co/cMhq16isel\n",
      "\n",
      "Doggo-Floofer 200:\n",
      "At first I thought this was a shy doggo, but it's actually a Rare Canadian Floofer Owl. Amateurs would confuse the two. 11/10 only send dogs https://t.co/TXdT3tmuYk\n",
      "\n",
      "Doggo-Pupper 460:\n",
      "This is Dido. She's playing the lead role in \"Pupper Stops to Catch Snow Before Resuming Shadow Box with Dried Apple.\" 13/10 (IG: didodoggo) https://t.co/m7isZrOBX7\n",
      "\n",
      "Doggo-Pupper 531:\n",
      "Here we have Burke (pupper) and Dexter (doggo). Pupper wants to be exactly like doggo. Both 12/10 would pet at same time https://t.co/ANBpEYHaho\n",
      "\n",
      "Doggo-Pupper 575:\n",
      "This is Bones. He's being haunted by another doggo of roughly the same size. 12/10 deep breaths pupper everything's fine https://t.co/55Dqe0SJNj\n",
      "\n",
      "Doggo-Pupper 705:\n",
      "This is Pinot. He's a sophisticated doggo. You can tell by the hat. Also pointier than your average pupper. Still 10/10 would pet cautiously https://t.co/f2wmLZTPHd\n",
      "\n",
      "Doggo-Pupper 889:\n",
      "Meet Maggie &amp; Lila. Maggie is the doggo, Lila is the pupper. They are sisters. Both 12/10 would pet at the same time https://t.co/MYwR4DQKll\n",
      "\n",
      "Doggo-Pupper 956:\n",
      "Please stop sending it pictures that don't even have a doggo or pupper in them. Churlish af. 5/10 neat couch tho https://t.co/u2c9c7qSg8\n",
      "\n",
      "Doggo-Pupper 1063:\n",
      "This is just downright precious af. 12/10 for both pupper and doggo https://t.co/o5J479bZUC\n",
      "\n",
      "Doggo-Pupper 1113:\n",
      "Like father (doggo), like son (pupper). Both 12/10 https://t.co/pG2inLaOda\n"
     ]
    }
   ],
   "source": [
    "# print tweets that have double stage and print for inspection\n",
    "double_stage = [\"Doggo-Pupper\",\"Doggo-Floofer\",\"Doggo-Puppo\"]\n",
    "stage_index = merged_tidy.query('stage in @double_stage').index\n",
    "for index in stage_index:\n",
    "    print(f'\\n{merged_tidy.stage[index]} {index}:')\n",
    "    print(f'{merged_tidy.text[index]}')"
   ]
  },
  {
   "cell_type": "code",
   "execution_count": 41,
   "metadata": {},
   "outputs": [
    {
     "name": "stdout",
     "output_type": "stream",
     "text": [
      "191 is ['Doggo-Puppo']\n",
      "200 is ['Doggo-Floofer']\n",
      "460 is ['Doggo-Pupper']\n",
      "531 is ['Doggo-Pupper']\n",
      "575 is ['Doggo-Pupper']\n",
      "705 is ['Doggo-Pupper']\n",
      "889 is ['Doggo-Pupper']\n",
      "956 is ['Doggo-Pupper']\n",
      "1063 is ['Doggo-Pupper']\n",
      "1113 is ['Doggo-Pupper']\n"
     ]
    }
   ],
   "source": [
    "i=0\n",
    "for index in stage_index:\n",
    "    stage = merged_tidy.loc[[index],'stage'].values\n",
    "    if stage in double_stage:\n",
    "        i+=1\n",
    "        print(f'{index} is {stage}')"
   ]
  },
  {
   "cell_type": "code",
   "execution_count": 42,
   "metadata": {},
   "outputs": [],
   "source": [
    "#Clean to correct stage with code\n",
    "merged_tidy.loc[[191], 'stage'] = 'Puppo'\n",
    "merged_tidy.loc[[200], 'stage'] = 'Doggo'\n",
    "merged_tidy.loc[[460], 'stage'] = 'Pupper'\n",
    "merged_tidy.loc[[575], 'stage'] = 'Pupper'\n",
    "merged_tidy.loc[[705], 'stage'] = 'not-dog'\n",
    "merged_tidy.loc[[956], 'stage'] = 'not-rating'\n",
    "\n",
    "#drop some tweets\n",
    "stage_index_drop = merged_tidy.query('stage in [\"not-dog\",\"not-rating\"]').index\n",
    "merged_tidy = merged_tidy.drop(index=stage_index_drop, errors='ignore')"
   ]
  },
  {
   "cell_type": "markdown",
   "metadata": {},
   "source": [
    "##### Test"
   ]
  },
  {
   "cell_type": "code",
   "execution_count": 43,
   "metadata": {},
   "outputs": [
    {
     "name": "stdout",
     "output_type": "stream",
     "text": [
      "191 already corrected to ['Puppo']\n",
      "200 already corrected to ['Doggo']\n",
      "460 already corrected to ['Pupper']\n",
      "531 was left as is\n",
      "575 already corrected to ['Pupper']\n",
      "705 already dropped because it was irrelevant\n",
      "889 was left as is\n",
      "956 already dropped because it was irrelevant\n",
      "1063 was left as is\n",
      "1113 was left as is\n"
     ]
    }
   ],
   "source": [
    "i=0\n",
    "for index in stage_index:\n",
    "    try:\n",
    "        stage = merged_tidy.loc[[index],'stage'].values\n",
    "        if stage in double_stage:\n",
    "            i+=1\n",
    "            print(f'{index} was left as is')\n",
    "        else:\n",
    "            print(f'{index} already corrected to {stage}')\n",
    "    except KeyError:\n",
    "        print(f'{index} already dropped because it was irrelevant')"
   ]
  },
  {
   "cell_type": "markdown",
   "metadata": {},
   "source": [
    "#### 11. (Quality Issue) drop tweets with False in any of the three predictions considered as not dog"
   ]
  },
  {
   "cell_type": "code",
   "execution_count": 44,
   "metadata": {},
   "outputs": [
    {
     "data": {
      "text/plain": [
       "775"
      ]
     },
     "execution_count": 44,
     "metadata": {},
     "output_type": "execute_result"
    }
   ],
   "source": [
    "merged_tidy.query('(p1_dog != True) or (p2_dog != True) or (p3_dog != True)', engine='python').shape[0]"
   ]
  },
  {
   "cell_type": "markdown",
   "metadata": {},
   "source": [
    "##### Code"
   ]
  },
  {
   "cell_type": "code",
   "execution_count": 45,
   "metadata": {},
   "outputs": [],
   "source": [
    "merged_tidy = merged_tidy.query('(p1_dog == True and p2_dog == True and p3_dog == True)', engine='python')"
   ]
  },
  {
   "cell_type": "markdown",
   "metadata": {},
   "source": [
    "##### Test"
   ]
  },
  {
   "cell_type": "code",
   "execution_count": 46,
   "metadata": {},
   "outputs": [
    {
     "data": {
      "text/plain": [
       "0"
      ]
     },
     "execution_count": 46,
     "metadata": {},
     "output_type": "execute_result"
    }
   ],
   "source": [
    "merged_tidy.query('(p1_dog != True) or (p2_dog != True) or (p3_dog != True)', engine='python').shape[0]"
   ]
  },
  {
   "cell_type": "markdown",
   "metadata": {},
   "source": [
    "Deal with only dog tweets"
   ]
  },
  {
   "cell_type": "markdown",
   "metadata": {},
   "source": [
    "#### 12. (Tidiness Issues) store dog info, tweet info and image info in separate datasets and files"
   ]
  },
  {
   "cell_type": "markdown",
   "metadata": {},
   "source": [
    "##### Code"
   ]
  },
  {
   "cell_type": "code",
   "execution_count": 47,
   "metadata": {},
   "outputs": [],
   "source": [
    "tweet_info = merged_tidy[['tweet_id', 'timestamp', 'text', 'expanded_urls', 'retweet_count', 'favorite_count']].copy()\n",
    "dog_info = merged_tidy[['tweet_id', 'name', 'stage', 'rating_numerator', 'rating_denominator']].copy()\n",
    "image_info = merged_tidy[['tweet_id', 'jpg_url', 'img_num', 'p1', 'p1_conf', 'p1_dog', 'p2', 'p2_conf', 'p2_dog', 'p3', 'p3_conf', 'p3_dog']].copy()"
   ]
  },
  {
   "cell_type": "markdown",
   "metadata": {},
   "source": [
    "##### Test"
   ]
  },
  {
   "cell_type": "code",
   "execution_count": 48,
   "metadata": {},
   "outputs": [
    {
     "name": "stdout",
     "output_type": "stream",
     "text": [
      "<class 'pandas.core.frame.DataFrame'>\n",
      "Int64Index: 1187 entries, 1 to 2355\n",
      "Data columns (total 6 columns):\n",
      " #   Column          Non-Null Count  Dtype              \n",
      "---  ------          --------------  -----              \n",
      " 0   tweet_id        1187 non-null   Int64              \n",
      " 1   timestamp       1187 non-null   datetime64[ns, UTC]\n",
      " 2   text            1187 non-null   object             \n",
      " 3   expanded_urls   1187 non-null   object             \n",
      " 4   retweet_count   1187 non-null   Int64              \n",
      " 5   favorite_count  1187 non-null   Int64              \n",
      "dtypes: Int64(3), datetime64[ns, UTC](1), object(2)\n",
      "memory usage: 68.4+ KB\n"
     ]
    }
   ],
   "source": [
    "tweet_info.info()"
   ]
  },
  {
   "cell_type": "code",
   "execution_count": 49,
   "metadata": {},
   "outputs": [
    {
     "name": "stdout",
     "output_type": "stream",
     "text": [
      "<class 'pandas.core.frame.DataFrame'>\n",
      "Int64Index: 1187 entries, 1 to 2355\n",
      "Data columns (total 5 columns):\n",
      " #   Column              Non-Null Count  Dtype \n",
      "---  ------              --------------  ----- \n",
      " 0   tweet_id            1187 non-null   Int64 \n",
      " 1   name                1187 non-null   object\n",
      " 2   stage               1187 non-null   object\n",
      " 3   rating_numerator    1187 non-null   Int64 \n",
      " 4   rating_denominator  1187 non-null   Int64 \n",
      "dtypes: Int64(3), object(2)\n",
      "memory usage: 59.1+ KB\n"
     ]
    }
   ],
   "source": [
    "dog_info.info()"
   ]
  },
  {
   "cell_type": "code",
   "execution_count": 50,
   "metadata": {},
   "outputs": [
    {
     "name": "stdout",
     "output_type": "stream",
     "text": [
      "<class 'pandas.core.frame.DataFrame'>\n",
      "Int64Index: 1187 entries, 1 to 2355\n",
      "Data columns (total 12 columns):\n",
      " #   Column    Non-Null Count  Dtype  \n",
      "---  ------    --------------  -----  \n",
      " 0   tweet_id  1187 non-null   Int64  \n",
      " 1   jpg_url   1187 non-null   object \n",
      " 2   img_num   1187 non-null   Int64  \n",
      " 3   p1        1187 non-null   object \n",
      " 4   p1_conf   1187 non-null   float64\n",
      " 5   p1_dog    1187 non-null   boolean\n",
      " 6   p2        1187 non-null   object \n",
      " 7   p2_conf   1187 non-null   float64\n",
      " 8   p2_dog    1187 non-null   boolean\n",
      " 9   p3        1187 non-null   object \n",
      " 10  p3_conf   1187 non-null   float64\n",
      " 11  p3_dog    1187 non-null   boolean\n",
      "dtypes: Int64(2), boolean(3), float64(3), object(4)\n",
      "memory usage: 102.0+ KB\n"
     ]
    }
   ],
   "source": [
    "image_info.info()"
   ]
  },
  {
   "cell_type": "code",
   "execution_count": 51,
   "metadata": {},
   "outputs": [
    {
     "data": {
      "text/plain": [
       "Index(['tweet_id', 'timestamp', 'text', 'expanded_urls', 'rating_numerator',\n",
       "       'rating_denominator', 'name', 'retweet_count', 'favorite_count',\n",
       "       'jpg_url', 'img_num', 'p1', 'p1_conf', 'p1_dog', 'p2', 'p2_conf',\n",
       "       'p2_dog', 'p3', 'p3_conf', 'p3_dog', 'stage'],\n",
       "      dtype='object')"
      ]
     },
     "execution_count": 51,
     "metadata": {},
     "output_type": "execute_result"
    }
   ],
   "source": [
    "merged_tidy.columns"
   ]
  },
  {
   "cell_type": "code",
   "execution_count": 52,
   "metadata": {},
   "outputs": [],
   "source": [
    "merged_tidy = merged_tidy[['tweet_id', 'timestamp', 'text', 'expanded_urls', 'retweet_count', 'favorite_count',\n",
    "        'name', 'stage', 'rating_numerator','rating_denominator',\n",
    "        'jpg_url', 'img_num', 'p1', 'p1_conf', 'p1_dog', 'p2', 'p2_conf',\n",
    "        'p2_dog', 'p3', 'p3_conf', 'p3_dog']]"
   ]
  },
  {
   "cell_type": "code",
   "execution_count": 53,
   "metadata": {},
   "outputs": [],
   "source": [
    "if not os.path.exists('work'):\n",
    "    os.makedirs('work')\n",
    "merged_tidy.to_csv('work/twitter_archive_master.csv',index=False)\n",
    "tweet_info.to_csv('work/tweets.csv',index=False)\n",
    "dog_info.to_csv('work/dog.csv',index=False)\n",
    "image_info.to_csv('work/image.csv',index=False)"
   ]
  },
  {
   "cell_type": "markdown",
   "metadata": {},
   "source": [
    "# Visualizations <a name=\"visualization\"></a>"
   ]
  },
  {
   "cell_type": "code",
   "execution_count": 54,
   "metadata": {},
   "outputs": [],
   "source": [
    "#Create folder for graphs\n",
    "if not os.path.exists('work/graphs'):\n",
    "    os.makedirs('work/graphs')"
   ]
  },
  {
   "cell_type": "code",
   "execution_count": 55,
   "metadata": {},
   "outputs": [],
   "source": [
    "#extract extra data from timestamp\n",
    "merged_tidy['hour'] = merged_tidy.timestamp.dt.hour\n",
    "merged_tidy['month'] = merged_tidy.timestamp.dt.month\n",
    "merged_tidy['year'] = merged_tidy.timestamp.dt.year\n",
    "merged_tidy['month_name'] = merged_tidy.timestamp.dt.month_name()"
   ]
  },
  {
   "cell_type": "code",
   "execution_count": 56,
   "metadata": {},
   "outputs": [
    {
     "data": {
      "image/png": "[encoded data removed]",
      "text/plain": [
       "<Figure size 432x288 with 1 Axes>"
      ]
     },
     "metadata": {
      "needs_background": "light"
     },
     "output_type": "display_data"
    }
   ],
   "source": [
    "#Bar chart for top 10 dog types in dataset\n",
    "merged_tidy.p1.value_counts()[:10].rename(index=(lambda x:x.replace('_',' ').title())).plot.bar()\n",
    "plt.xlabel('Dog Types')\n",
    "plt.xticks(rotation='60')\n",
    "plt.ylabel('Tweet Count')\n",
    "plt.title('Top 10 Dog Types by Count')\n",
    "plt.tight_layout()\n",
    "plt.savefig('work/graphs/top_types_bar.jpg')"
   ]
  },
  {
   "cell_type": "code",
   "execution_count": 57,
   "metadata": {},
   "outputs": [
    {
     "data": {
      "text/plain": [
       "Golden Retriever      117\n",
       "Pembroke               77\n",
       "Labrador Retriever     72\n",
       "Chihuahua              50\n",
       "Pug                    39\n",
       "Pomeranian             28\n",
       "Malamute               26\n",
       "Chow                   26\n",
       "Toy Poodle             25\n",
       "Samoyed                24\n",
       "Name: p1, dtype: int64"
      ]
     },
     "execution_count": 57,
     "metadata": {},
     "output_type": "execute_result"
    }
   ],
   "source": [
    "merged_tidy.p1.value_counts()[:10].rename(index=(lambda x:x.replace('_',' ').title()))"
   ]
  },
  {
   "cell_type": "code",
   "execution_count": 58,
   "metadata": {},
   "outputs": [
    {
     "data": {
      "image/png": "[encoded data removed]",
      "text/plain": [
       "<Figure size 432x288 with 1 Axes>"
      ]
     },
     "metadata": {
      "needs_background": "light"
     },
     "output_type": "display_data"
    }
   ],
   "source": [
    "#check peak hour for tweet activity UTC +00\n",
    "merged_tidy.hour.value_counts().sort_index().plot.line()\n",
    "plt.xlabel('Time of Day')\n",
    "plt.xticks(rotation='45')\n",
    "plt.ylabel('Tweet Frequency')\n",
    "plt.title('Daily Tweet Activity')\n",
    "plt.tight_layout()\n",
    "plt.savefig('work/graphs/daily_activity_line.jpg')"
   ]
  },
  {
   "cell_type": "code",
   "execution_count": 59,
   "metadata": {},
   "outputs": [
    {
     "data": {
      "text/plain": [
       "0     153\n",
       "1     161\n",
       "2     121\n",
       "3      98\n",
       "4      53\n",
       "5       9\n",
       "6       3\n",
       "14      4\n",
       "15     48\n",
       "16    132\n",
       "17    101\n",
       "18     60\n",
       "19     50\n",
       "20     39\n",
       "21     43\n",
       "22     40\n",
       "23     72\n",
       "Name: hour, dtype: int64"
      ]
     },
     "execution_count": 59,
     "metadata": {},
     "output_type": "execute_result"
    }
   ],
   "source": [
    "merged_tidy.hour.value_counts().sort_index()"
   ]
  },
  {
   "cell_type": "code",
   "execution_count": 60,
   "metadata": {},
   "outputs": [
    {
     "data": {
      "image/png": "[encoded data removed]",
      "text/plain": [
       "<Figure size 432x288 with 1 Axes>"
      ]
     },
     "metadata": {
      "needs_background": "light"
     },
     "output_type": "display_data"
    }
   ],
   "source": [
    "#most rated dog stage by Count\n",
    "merged_tidy.query('stage != \"None\"').stage.value_counts().plot.bar()\n",
    "plt.xlabel('Dog Stage')\n",
    "plt.xticks(rotation='45')\n",
    "plt.ylabel('Count')\n",
    "plt.title('Dog Stage by Count')\n",
    "plt.tight_layout()\n",
    "plt.savefig('work/graphs/stage_count_bar.jpg')"
   ]
  },
  {
   "cell_type": "code",
   "execution_count": 61,
   "metadata": {},
   "outputs": [
    {
     "data": {
      "text/plain": [
       "Pupper          121\n",
       "Doggo            39\n",
       "Puppo            19\n",
       "Floofer           6\n",
       "Doggo-Pupper      3\n",
       "Name: stage, dtype: int64"
      ]
     },
     "execution_count": 61,
     "metadata": {},
     "output_type": "execute_result"
    }
   ],
   "source": [
    "merged_tidy.query('stage != \"None\"').stage.value_counts()"
   ]
  },
  {
   "cell_type": "code",
   "execution_count": 62,
   "metadata": {},
   "outputs": [
    {
     "data": {
      "image/png": "[encoded data removed]",
      "text/plain": [
       "<Figure size 432x288 with 1 Axes>"
      ]
     },
     "metadata": {
      "needs_background": "light"
     },
     "output_type": "display_data"
    }
   ],
   "source": [
    "#Top rated dog stage\n",
    "pivot = merged_tidy.query('stage != \"None\"').pivot_table(index='stage',values='rating_numerator',aggfunc='mean')\n",
    "pivot.sort_values(by='rating_numerator', ascending=False).plot.bar(legend=None)\n",
    "plt.xlabel('Dog Stage')\n",
    "plt.xticks(rotation='45')\n",
    "plt.ylabel('Rating Average')\n",
    "plt.title('Average rating per dog stage')\n",
    "plt.tight_layout()\n",
    "plt.savefig('work/graphs/stage_rating_bar.jpg')"
   ]
  },
  {
   "cell_type": "code",
   "execution_count": 63,
   "metadata": {},
   "outputs": [
    {
     "data": {
      "text/html": [
       "<div>\n",
       "<style scoped>\n",
       "    .dataframe tbody tr th:only-of-type {\n",
       "        vertical-align: middle;\n",
       "    }\n",
       "\n",
       "    .dataframe tbody tr th {\n",
       "        vertical-align: top;\n",
       "    }\n",
       "\n",
       "    .dataframe thead th {\n",
       "        text-align: right;\n",
       "    }\n",
       "</style>\n",
       "<table border=\"1\" class=\"dataframe\">\n",
       "  <thead>\n",
       "    <tr style=\"text-align: right;\">\n",
       "      <th></th>\n",
       "      <th>rating_numerator</th>\n",
       "    </tr>\n",
       "    <tr>\n",
       "      <th>Stage</th>\n",
       "      <th></th>\n",
       "    </tr>\n",
       "  </thead>\n",
       "  <tbody>\n",
       "    <tr>\n",
       "      <th>Puppo</th>\n",
       "      <td>12.105263</td>\n",
       "    </tr>\n",
       "    <tr>\n",
       "      <th>Doggo</th>\n",
       "      <td>12.000000</td>\n",
       "    </tr>\n",
       "    <tr>\n",
       "      <th>Doggo-Pupper</th>\n",
       "      <td>12.000000</td>\n",
       "    </tr>\n",
       "    <tr>\n",
       "      <th>Floofer</th>\n",
       "      <td>12.000000</td>\n",
       "    </tr>\n",
       "    <tr>\n",
       "      <th>Pupper</th>\n",
       "      <td>11.181818</td>\n",
       "    </tr>\n",
       "  </tbody>\n",
       "</table>\n",
       "</div>"
      ],
      "text/plain": [
       "              rating_numerator\n",
       "Stage                         \n",
       "Puppo                12.105263\n",
       "Doggo                12.000000\n",
       "Doggo-Pupper         12.000000\n",
       "Floofer              12.000000\n",
       "Pupper               11.181818"
      ]
     },
     "execution_count": 63,
     "metadata": {},
     "output_type": "execute_result"
    }
   ],
   "source": [
    "pivot.index.names = ['Stage']\n",
    "pivot.sort_values(by='rating_numerator', ascending=False)"
   ]
  },
  {
   "cell_type": "code",
   "execution_count": 64,
   "metadata": {},
   "outputs": [
    {
     "data": {
      "image/png": "[encoded data removed]",
      "text/plain": [
       "<Figure size 432x432 with 1 Axes>"
      ]
     },
     "metadata": {
      "needs_background": "light"
     },
     "output_type": "display_data"
    }
   ],
   "source": [
    "#Top rated dog type\n",
    "pivot = merged_tidy.pivot_table(index='p1',values='rating_numerator',aggfunc='mean')\n",
    "pivot = pivot.sort_values(by='rating_numerator' ,ascending=False)[:10].rename(index=(lambda x: x.title().replace('_',' ')))\n",
    "pivot.plot.bar(legend=None, figsize=(6,6))\n",
    "plt.xlabel('Dog Type')\n",
    "plt.xticks(rotation='80')\n",
    "plt.ylabel('Rating Average')\n",
    "plt.title('Top rated Dog Type')\n",
    "plt.tight_layout()\n",
    "plt.savefig('work/graphs/type_rating_bar.jpg')"
   ]
  },
  {
   "cell_type": "code",
   "execution_count": 65,
   "metadata": {},
   "outputs": [
    {
     "data": {
      "text/html": [
       "<div>\n",
       "<style scoped>\n",
       "    .dataframe tbody tr th:only-of-type {\n",
       "        vertical-align: middle;\n",
       "    }\n",
       "\n",
       "    .dataframe tbody tr th {\n",
       "        vertical-align: top;\n",
       "    }\n",
       "\n",
       "    .dataframe thead th {\n",
       "        text-align: right;\n",
       "    }\n",
       "</style>\n",
       "<table border=\"1\" class=\"dataframe\">\n",
       "  <thead>\n",
       "    <tr style=\"text-align: right;\">\n",
       "      <th></th>\n",
       "      <th>rating_numerator</th>\n",
       "    </tr>\n",
       "    <tr>\n",
       "      <th>Dog Type</th>\n",
       "      <th></th>\n",
       "    </tr>\n",
       "  </thead>\n",
       "  <tbody>\n",
       "    <tr>\n",
       "      <th>Clumber</th>\n",
       "      <td>27.000000</td>\n",
       "    </tr>\n",
       "    <tr>\n",
       "      <th>West Highland White Terrier</th>\n",
       "      <td>17.454545</td>\n",
       "    </tr>\n",
       "    <tr>\n",
       "      <th>Borzoi</th>\n",
       "      <td>17.200000</td>\n",
       "    </tr>\n",
       "    <tr>\n",
       "      <th>Soft-Coated Wheaten Terrier</th>\n",
       "      <td>16.222222</td>\n",
       "    </tr>\n",
       "    <tr>\n",
       "      <th>Great Pyrenees</th>\n",
       "      <td>15.153846</td>\n",
       "    </tr>\n",
       "    <tr>\n",
       "      <th>Labrador Retriever</th>\n",
       "      <td>14.875000</td>\n",
       "    </tr>\n",
       "    <tr>\n",
       "      <th>Siberian Husky</th>\n",
       "      <td>13.647059</td>\n",
       "    </tr>\n",
       "    <tr>\n",
       "      <th>Saluki</th>\n",
       "      <td>12.500000</td>\n",
       "    </tr>\n",
       "    <tr>\n",
       "      <th>Golden Retriever</th>\n",
       "      <td>12.393162</td>\n",
       "    </tr>\n",
       "    <tr>\n",
       "      <th>Irish Setter</th>\n",
       "      <td>12.333333</td>\n",
       "    </tr>\n",
       "  </tbody>\n",
       "</table>\n",
       "</div>"
      ],
      "text/plain": [
       "                             rating_numerator\n",
       "Dog Type                                     \n",
       "Clumber                             27.000000\n",
       "West Highland White Terrier         17.454545\n",
       "Borzoi                              17.200000\n",
       "Soft-Coated Wheaten Terrier         16.222222\n",
       "Great Pyrenees                      15.153846\n",
       "Labrador Retriever                  14.875000\n",
       "Siberian Husky                      13.647059\n",
       "Saluki                              12.500000\n",
       "Golden Retriever                    12.393162\n",
       "Irish Setter                        12.333333"
      ]
     },
     "execution_count": 65,
     "metadata": {},
     "output_type": "execute_result"
    }
   ],
   "source": [
    "pivot.index.names = ['Dog Type']\n",
    "pivot"
   ]
  },
  {
   "cell_type": "code",
   "execution_count": 66,
   "metadata": {},
   "outputs": [
    {
     "data": {
      "image/png": "[encoded data removed]",
      "text/plain": [
       "<Figure size 432x288 with 1 Axes>"
      ]
     },
     "metadata": {
      "needs_background": "light"
     },
     "output_type": "display_data"
    }
   ],
   "source": [
    "#Box plot for retweet count grouped by stage\n",
    "pivot = merged_tidy.query('stage != \"None\" & retweet_count <= 8000',engine='python').pivot_table(index='tweet_id',values='retweet_count', columns='stage',aggfunc='sum')\n",
    "pivot.plot.box()\n",
    "plt.xlabel('Dog Stage')\n",
    "plt.xticks(rotation='45')\n",
    "plt.ylabel('Retweet Count')\n",
    "plt.title('Retweet Count Box Plot per Dog Stage')\n",
    "plt.tight_layout()\n",
    "plt.savefig('work/graphs/stage_retweets_box.jpg')"
   ]
  },
  {
   "cell_type": "code",
   "execution_count": 67,
   "metadata": {
    "scrolled": true
   },
   "outputs": [
    {
     "data": {
      "image/png": "[encoded data removed]",
      "text/plain": [
       "<Figure size 432x288 with 1 Axes>"
      ]
     },
     "metadata": {
      "needs_background": "light"
     },
     "output_type": "display_data"
    }
   ],
   "source": [
    "#Box plot for favorite count grouped by stage\n",
    "pivot = merged_tidy.query('stage != \"None\" & favorite_count <= 10000',engine='python').pivot_table(index='tweet_id',values='favorite_count', columns='stage',aggfunc='sum')\n",
    "pivot.plot.box()\n",
    "plt.xlabel('Dog Stage')\n",
    "plt.xticks(rotation='45')\n",
    "plt.ylabel('Favorite Count')\n",
    "plt.title('Favorite Count Box Plot per Dog Stage')\n",
    "plt.tight_layout()\n",
    "plt.savefig('work/graphs/stage_favorite_box.jpg')"
   ]
  },
  {
   "cell_type": "code",
   "execution_count": 68,
   "metadata": {
    "scrolled": true
   },
   "outputs": [
    {
     "data": {
      "image/png": "[encoded data removed]",
      "text/plain": [
       "<Figure size 432x288 with 1 Axes>"
      ]
     },
     "metadata": {
      "needs_background": "light"
     },
     "output_type": "display_data"
    }
   ],
   "source": [
    "#Line Charts for tweets, retweets and favorite count\n",
    "pivot = merged_tidy.pivot_table(index=['year','month','month_name'],values=['favorite_count','retweet_count'],aggfunc='mean')\n",
    "pivot = pivot.reset_index('month',drop=True).reorder_levels(['month_name','year']).rename(columns=(lambda x: x.title().replace('_',' ')))\n",
    "pivot.plot.line()\n",
    "plt.xlabel('Date')\n",
    "plt.xticks(rotation='45')\n",
    "plt.ylabel('Count')\n",
    "plt.title('Time Series of Interaction')\n",
    "plt.tight_layout()\n",
    "plt.savefig('work/graphs/interaction_line.jpg')"
   ]
  },
  {
   "cell_type": "code",
   "execution_count": 69,
   "metadata": {
    "scrolled": true
   },
   "outputs": [
    {
     "data": {
      "image/png": "[encoded data removed]",
      "text/plain": [
       "<Figure size 432x288 with 1 Axes>"
      ]
     },
     "metadata": {
      "needs_background": "light"
     },
     "output_type": "display_data"
    }
   ],
   "source": [
    "pivot = merged_tidy.pivot_table(index=['year','month','month_name'],values=['tweet_id'],aggfunc='count')\n",
    "pivot = pivot.reset_index('month',drop=True).reorder_levels(['month_name','year']).rename(columns=(lambda x: x.title().replace('_',' ')))\n",
    "pivot.plot.line()\n",
    "plt.xlabel('Date')\n",
    "plt.xticks(rotation='45')\n",
    "plt.ylabel('Tweet Count')\n",
    "plt.title('Time Series of Activity')\n",
    "plt.tight_layout()\n",
    "plt.savefig('work/graphs/activity_line.jpg')"
   ]
  },
  {
   "cell_type": "code",
   "execution_count": 70,
   "metadata": {
    "scrolled": true
   },
   "outputs": [
    {
     "data": {
      "text/html": [
       "<div>\n",
       "<style scoped>\n",
       "    .dataframe tbody tr th:only-of-type {\n",
       "        vertical-align: middle;\n",
       "    }\n",
       "\n",
       "    .dataframe tbody tr th {\n",
       "        vertical-align: top;\n",
       "    }\n",
       "\n",
       "    .dataframe thead th {\n",
       "        text-align: right;\n",
       "    }\n",
       "</style>\n",
       "<table border=\"1\" class=\"dataframe\">\n",
       "  <thead>\n",
       "    <tr style=\"text-align: right;\">\n",
       "      <th></th>\n",
       "      <th></th>\n",
       "      <th>Tweet Id</th>\n",
       "    </tr>\n",
       "    <tr>\n",
       "      <th>month_name</th>\n",
       "      <th>year</th>\n",
       "      <th></th>\n",
       "    </tr>\n",
       "  </thead>\n",
       "  <tbody>\n",
       "    <tr>\n",
       "      <th>November</th>\n",
       "      <th>2015</th>\n",
       "      <td>162</td>\n",
       "    </tr>\n",
       "    <tr>\n",
       "      <th>December</th>\n",
       "      <th>2015</th>\n",
       "      <td>187</td>\n",
       "    </tr>\n",
       "    <tr>\n",
       "      <th>January</th>\n",
       "      <th>2016</th>\n",
       "      <td>100</td>\n",
       "    </tr>\n",
       "    <tr>\n",
       "      <th>February</th>\n",
       "      <th>2016</th>\n",
       "      <td>70</td>\n",
       "    </tr>\n",
       "    <tr>\n",
       "      <th>March</th>\n",
       "      <th>2016</th>\n",
       "      <td>76</td>\n",
       "    </tr>\n",
       "    <tr>\n",
       "      <th>April</th>\n",
       "      <th>2016</th>\n",
       "      <td>33</td>\n",
       "    </tr>\n",
       "    <tr>\n",
       "      <th>May</th>\n",
       "      <th>2016</th>\n",
       "      <td>31</td>\n",
       "    </tr>\n",
       "    <tr>\n",
       "      <th>June</th>\n",
       "      <th>2016</th>\n",
       "      <td>44</td>\n",
       "    </tr>\n",
       "    <tr>\n",
       "      <th>July</th>\n",
       "      <th>2016</th>\n",
       "      <td>48</td>\n",
       "    </tr>\n",
       "    <tr>\n",
       "      <th>August</th>\n",
       "      <th>2016</th>\n",
       "      <td>36</td>\n",
       "    </tr>\n",
       "    <tr>\n",
       "      <th>September</th>\n",
       "      <th>2016</th>\n",
       "      <td>42</td>\n",
       "    </tr>\n",
       "    <tr>\n",
       "      <th>October</th>\n",
       "      <th>2016</th>\n",
       "      <td>41</td>\n",
       "    </tr>\n",
       "    <tr>\n",
       "      <th>November</th>\n",
       "      <th>2016</th>\n",
       "      <td>36</td>\n",
       "    </tr>\n",
       "    <tr>\n",
       "      <th>December</th>\n",
       "      <th>2016</th>\n",
       "      <td>45</td>\n",
       "    </tr>\n",
       "    <tr>\n",
       "      <th>January</th>\n",
       "      <th>2017</th>\n",
       "      <td>49</td>\n",
       "    </tr>\n",
       "    <tr>\n",
       "      <th>February</th>\n",
       "      <th>2017</th>\n",
       "      <td>37</td>\n",
       "    </tr>\n",
       "    <tr>\n",
       "      <th>March</th>\n",
       "      <th>2017</th>\n",
       "      <td>28</td>\n",
       "    </tr>\n",
       "    <tr>\n",
       "      <th>April</th>\n",
       "      <th>2017</th>\n",
       "      <td>25</td>\n",
       "    </tr>\n",
       "    <tr>\n",
       "      <th>May</th>\n",
       "      <th>2017</th>\n",
       "      <td>29</td>\n",
       "    </tr>\n",
       "    <tr>\n",
       "      <th>June</th>\n",
       "      <th>2017</th>\n",
       "      <td>32</td>\n",
       "    </tr>\n",
       "    <tr>\n",
       "      <th>July</th>\n",
       "      <th>2017</th>\n",
       "      <td>35</td>\n",
       "    </tr>\n",
       "    <tr>\n",
       "      <th>August</th>\n",
       "      <th>2017</th>\n",
       "      <td>1</td>\n",
       "    </tr>\n",
       "  </tbody>\n",
       "</table>\n",
       "</div>"
      ],
      "text/plain": [
       "                 Tweet Id\n",
       "month_name year          \n",
       "November   2015       162\n",
       "December   2015       187\n",
       "January    2016       100\n",
       "February   2016        70\n",
       "March      2016        76\n",
       "April      2016        33\n",
       "May        2016        31\n",
       "June       2016        44\n",
       "July       2016        48\n",
       "August     2016        36\n",
       "September  2016        42\n",
       "October    2016        41\n",
       "November   2016        36\n",
       "December   2016        45\n",
       "January    2017        49\n",
       "February   2017        37\n",
       "March      2017        28\n",
       "April      2017        25\n",
       "May        2017        29\n",
       "June       2017        32\n",
       "July       2017        35\n",
       "August     2017         1"
      ]
     },
     "execution_count": 70,
     "metadata": {},
     "output_type": "execute_result"
    }
   ],
   "source": [
    "pivot"
   ]
  },
  {
   "cell_type": "code",
   "execution_count": 71,
   "metadata": {},
   "outputs": [],
   "source": [
    "#Tweet of the image used as report cover\n",
    "cover_url = merged_tidy.query('p1 == \"clumber\"', engine='python')['jpg_url'][763]"
   ]
  },
  {
   "cell_type": "code",
   "execution_count": 72,
   "metadata": {},
   "outputs": [],
   "source": [
    "r = requests.get(cover_url)\n",
    "i = Image.open(BytesIO(r.content))\n",
    "image_file_format = cover_url.split('.')[-1]\n",
    "i.save('work/cover' + '.' + image_file_format)"
   ]
  }
 ],
 "metadata": {
  "kernelspec": {
   "display_name": "Python 3",
   "language": "python",
   "name": "python3"
  },
  "language_info": {
   "codemirror_mode": {
    "name": "ipython",
    "version": 3
   },
   "file_extension": ".py",
   "mimetype": "text/x-python",
   "name": "python",
   "nbconvert_exporter": "python",
   "pygments_lexer": "ipython3",
   "version": "3.8.6"
  }
 },
 "nbformat": 4,
 "nbformat_minor": 2
}
