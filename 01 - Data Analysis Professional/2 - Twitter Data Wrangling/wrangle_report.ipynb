{
 "cells": [
  {
   "cell_type": "markdown",
   "metadata": {},
   "source": [
    "# Wrangling"
   ]
  },
  {
   "cell_type": "markdown",
   "metadata": {},
   "source": [
    "Data wrangling consists of several steps:\n",
    "1. Gathering\n",
    "2. Assessment\n",
    "3. Cleaning\n",
    "\n",
    "Each of These steps is done using python as a programing language through all the three steps."
   ]
  },
  {
   "cell_type": "markdown",
   "metadata": {},
   "source": [
    "#### Further down in this report we will discuss each and every step briefly"
   ]
  },
  {
   "cell_type": "markdown",
   "metadata": {},
   "source": [
    "## Gather Data"
   ]
  },
  {
   "cell_type": "markdown",
   "metadata": {},
   "source": [
    "The data gathering was done using python and gathering data from multiple sources:\n",
    "1. **A tweet archive file:** Already available at hand provided by WeRateDogs containing data about their old tweets starting from 2015 till 2017\n",
    "2. **Using the twitter API:** To capture extra info about the tweets especially tweet and favorite count by querying the API using the tweet IDs provided in the archive\n",
    "3. **Downloading a dataset:** That featured the top 3 predictions provided by a prediction algorithm run on the dog pictures provided in the tweets."
   ]
  },
  {
   "cell_type": "markdown",
   "metadata": {},
   "source": [
    "## Assessment"
   ]
  },
  {
   "cell_type": "markdown",
   "metadata": {},
   "source": [
    "Assessment consists of two parts either:\n",
    "- Visual assessment which can be don by using python or any other spreadsheet application to inspect the data visually.\n",
    "- Programatic assessment which is done through a programming language.\n",
    "\n",
    "In our case both were done using **Python** "
   ]
  },
  {
   "cell_type": "markdown",
   "metadata": {},
   "source": [
    "## Cleaning\n",
    "Cleaning is the main part of the data wrangling process, and it consists of three steps:\n",
    "1. Define: To define the problems that we gathered through the assessment process either visually or programatically\n",
    "2. Code: Write code that deals with the gathered problems\n",
    "3. Test: Test the written code if it runs correctly  \n",
    "\n",
    "And after that iterate the steps for any further problems discovered throught the cleaning process\n",
    "\n",
    "### Define:\n",
    "- **Quality Issues**\n",
    "1. Assess exceptions list for possible missing tweets\n",
    "2. merge data together according to tweet ID\n",
    "3. Tweets with no images, retweet count, favorite count\n",
    "4. Need only original tweets; NO retweets NO replies\n",
    "5. Deal with empty and useless columns\n",
    "6. Timestamp dtype incorrect\n",
    "7. Deal with duplicated columns due to different data sets\n",
    "8. Clean data dtypes\n",
    "9. NaN, None Values\n",
    "10. deal with wrong info (wrong ratings, No names extracted, wrong types)\n",
    "11. Tweets that are not about dogs\n",
    "12. tweets that have bad predictions\n",
    "- **Tidiness Issues**\n",
    "1. Create new column that combines dog stage (doggo, floofer,pupper,puppo)\n",
    "2. Separate dog info from tweet info"
   ]
  },
  {
   "cell_type": "markdown",
   "metadata": {},
   "source": [
    "### Code\n",
    "1. (Quality Issue) Assess exceptions list for possible missing tweets\n",
    "2. (Quality Issue) merge data together according to tweet ID\n",
    "3. (Quality Issue) Tweets with no images, retweet count, favorite count\n",
    "4. (Quality Issue) Need only original tweets; NO retweets NO replies\n",
    "5. (Quality Issue) Deal with empty and useless columns\n",
    "6. (Quality Issue) Timestamp dtype incorrect\n",
    "7. (Quality Issue) Deal with duplicated columns due to different data sets\n",
    "8. (Quality Issue) Clean data dtypes (string = False because string raises keyerror when plotting)\n",
    "9. (Tidiness Issues) Create new column that combines dog stage (doggo, floofer,pupper,puppo)\n",
    "10. (Quality Issue) Clean double types visually\n",
    "11. (Quality Issue) drop tweets with False in any of the three predictions\n",
    "12. (Tidiness Issues) Separate dog info from tweet info and export"
   ]
  },
  {
   "cell_type": "markdown",
   "metadata": {},
   "source": [
    "# Visualizations\n",
    "After the cleaning process comes the visualizations part to help us make better sense<br> of the data at hand and help us convey some insights:\n",
    "- Bar chart for top 10 dog types in dataset\n",
    "- Check peak hour for tweet activity UTC +00\n",
    "- Most rated dog stage by Count\n",
    "- Top rated dog stage\n",
    "- Top rated dog type\n",
    "- Box plot for retweet count grouped by stage\n",
    "- Box plot for favorite count grouped by stage\n",
    "- Line Charts for tweets, retweets and favorite count"
   ]
  }
 ],
 "metadata": {
  "kernelspec": {
   "display_name": "Python 3",
   "language": "python",
   "name": "python3"
  },
  "language_info": {
   "codemirror_mode": {
    "name": "ipython",
    "version": 3
   },
   "file_extension": ".py",
   "mimetype": "text/x-python",
   "name": "python",
   "nbconvert_exporter": "python",
   "pygments_lexer": "ipython3",
   "version": "3.8.6"
  }
 },
 "nbformat": 4,
 "nbformat_minor": 2
}
