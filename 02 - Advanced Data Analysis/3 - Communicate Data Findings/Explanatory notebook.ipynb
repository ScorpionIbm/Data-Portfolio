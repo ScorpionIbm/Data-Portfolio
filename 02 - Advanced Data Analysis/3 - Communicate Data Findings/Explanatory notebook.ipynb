{
 "cells": [
  {
   "cell_type": "markdown",
   "metadata": {
    "hideCode": false,
    "hidePrompt": false,
    "slideshow": {
     "slide_type": "slide"
    }
   },
   "source": [
    "# Prosper Loan data exploration phase\n",
    "## by Islam Bakry Mohyee"
   ]
  },
  {
   "cell_type": "markdown",
   "metadata": {
    "hideCode": false,
    "hidePrompt": false,
    "slideshow": {
     "slide_type": "slide"
    }
   },
   "source": [
    "## Investigation Overview\n",
    "\n",
    "The goal of this presentation is to visualize the patterns and relations in the Prosper Loan dataset.\n",
    "\n",
    "## Dataset Overview\n",
    "\n",
    "This data set contains 113,937 loans with 81 variables on each loan, including loan amount, borrower rate (or interest rate), current loan status, borrower income, and many others.  "
   ]
  },
  {
   "cell_type": "code",
   "execution_count": 1,
   "metadata": {
    "hideCode": false,
    "hidePrompt": false,
    "slideshow": {
     "slide_type": "skip"
    }
   },
   "outputs": [],
   "source": [
    "# import all packages and set plots to be embedded inline\n",
    "import numpy as np\n",
    "import pandas as pd\n",
    "import matplotlib.pyplot as plt\n",
    "import seaborn as sb\n",
    "\n",
    "from pandas.api.types import CategoricalDtype\n",
    "\n",
    "%matplotlib inline"
   ]
  },
  {
   "cell_type": "code",
   "execution_count": 2,
   "metadata": {
    "hideCode": false,
    "hidePrompt": false,
    "slideshow": {
     "slide_type": "skip"
    }
   },
   "outputs": [],
   "source": [
    "data_file = './data/prosperLoanData.csv'\n",
    "def_file = './data/Prosper Loan Data - Variable Definitions.xlsx'\n",
    "df = pd.read_csv(data_file)\n",
    "def_df = pd.read_excel(def_file)"
   ]
  },
  {
   "cell_type": "markdown",
   "metadata": {
    "hideCode": false,
    "hidePrompt": false,
    "slideshow": {
     "slide_type": "slide"
    }
   },
   "source": [
    "### The main feature of interest in the dataset:\n",
    "\n",
    "The main feature of interest in the dataset is the **loan status** that represents the current state of the loan whether:  \n",
    "- Performing.\n",
    "- In default ['Chargedoff', 'Defaulted', 'Past Due','Past Due (91-120 days)', 'Past Due (>120 days)']\n",
    "- Days Past Due [DPD<=90]"
   ]
  },
  {
   "cell_type": "markdown",
   "metadata": {
    "hideCode": false,
    "hidePrompt": false,
    "slideshow": {
     "slide_type": "slide"
    }
   },
   "source": [
    "### Features in the dataset that may help support the investigation into the feature of interest:\n",
    "As a risk analyst, I am interested in factors that can help predict the default status of loans:\n",
    "    These factors are mainly: Score/Rating given by prosper (represented by multiple columns), income(stated income and income range), residential status, employment (status and duration), borrower rate.  \n",
    "  \n",
    "But in this presentation we will focus on our main feature of interest (LoanStatus) along with only two other two features, the Credit Score Range and the Borrower annual percentage rate."
   ]
  },
  {
   "cell_type": "code",
   "execution_count": 3,
   "metadata": {
    "hideCode": false,
    "hidePrompt": false,
    "slideshow": {
     "slide_type": "skip"
    }
   },
   "outputs": [],
   "source": [
    "df_clean = df.copy()"
   ]
  },
  {
   "cell_type": "code",
   "execution_count": 4,
   "metadata": {
    "hideCode": false,
    "hidePrompt": false,
    "slideshow": {
     "slide_type": "skip"
    }
   },
   "outputs": [
    {
     "data": {
      "text/plain": [
       "Index(['CreditGrade', 'LoanStatus', 'BorrowerAPR', 'ProsperRating (numeric)',\n",
       "       'ProsperRating (Alpha)', 'ProsperScore', 'Occupation',\n",
       "       'EmploymentStatus', 'EmploymentStatusDuration', 'IsBorrowerHomeowner',\n",
       "       'CreditScoreRangeLower', 'CreditScoreRangeUpper', 'DebtToIncomeRatio',\n",
       "       'IncomeRange', 'IncomeVerifiable', 'StatedMonthlyIncome',\n",
       "       'LoanOriginalAmount'],\n",
       "      dtype='object')"
      ]
     },
     "execution_count": 4,
     "metadata": {},
     "output_type": "execute_result"
    }
   ],
   "source": [
    "keep_columns = def_df.query('used == \"imp\"').index\n",
    "df_clean = df_clean.iloc[:,keep_columns]\n",
    "df_clean.columns"
   ]
  },
  {
   "cell_type": "markdown",
   "metadata": {
    "hideCode": false,
    "hidePrompt": false,
    "slideshow": {
     "slide_type": "slide"
    }
   },
   "source": [
    "## Univariate Exploration\n"
   ]
  },
  {
   "cell_type": "markdown",
   "metadata": {
    "slideshow": {
     "slide_type": "fragment"
    }
   },
   "source": [
    "In this section we inspect the distribution of our variables"
   ]
  },
  {
   "cell_type": "markdown",
   "metadata": {
    "hideCode": false,
    "hidePrompt": false,
    "slideshow": {
     "slide_type": "slide"
    }
   },
   "source": [
    "**Define the main variable of interest (Performing/ Days Past Due/ Non-performing)**"
   ]
  },
  {
   "cell_type": "code",
   "execution_count": 5,
   "metadata": {
    "hideCode": false,
    "hidePrompt": false,
    "slideshow": {
     "slide_type": "skip"
    }
   },
   "outputs": [],
   "source": [
    "#Drop Cancelled from the analysis because it provides no info\n",
    "cancelled = df_clean.query('LoanStatus == \"Cancelled\"').index\n",
    "df_clean = df_clean.drop(index=cancelled)"
   ]
  },
  {
   "cell_type": "code",
   "execution_count": 6,
   "metadata": {
    "hideCode": false,
    "hidePrompt": false,
    "slideshow": {
     "slide_type": "skip"
    }
   },
   "outputs": [],
   "source": [
    "#NPL -> 'Chargedoff', 'Defaulted','Past Due (91-120 days)', 'Past Due (>120 days)'\n",
    "#Performing -> 'Current', 'Completed', 'FinalPaymenInProgress'\n",
    "#DaysPastDue(DPD) -> 'Past Due (1-15 days)','Past Due (16-30 days)','Past Due (31-60 days)','Past Due (61-90 days)'\n",
    "\n",
    "NPL = ['Chargedoff', 'Defaulted','Past Due (91-120 days)', 'Past Due (>120 days)']\n",
    "DPD = ['Past Due (1-15 days)','Past Due (16-30 days)','Past Due (31-60 days)','Past Due (61-90 days)']"
   ]
  },
  {
   "cell_type": "code",
   "execution_count": 7,
   "metadata": {
    "hideCode": false,
    "hidePrompt": false,
    "slideshow": {
     "slide_type": "skip"
    }
   },
   "outputs": [],
   "source": [
    "def npl(x):\n",
    "    if x in NPL:\n",
    "        x = 'NPL'\n",
    "    elif x in DPD:\n",
    "        x = 'DPD'\n",
    "    else:\n",
    "        x = 'PL'\n",
    "    return x"
   ]
  },
  {
   "cell_type": "code",
   "execution_count": 8,
   "metadata": {
    "hideCode": false,
    "hidePrompt": false,
    "slideshow": {
     "slide_type": "skip"
    }
   },
   "outputs": [],
   "source": [
    "npl_type = CategoricalDtype(categories=['PL','NPL','DPD'], ordered=True)\n",
    "df_clean['NPL'] = df_clean.LoanStatus.apply(npl).astype(npl_type)"
   ]
  },
  {
   "cell_type": "markdown",
   "metadata": {
    "hideCode": false,
    "hidePrompt": false,
    "slideshow": {
     "slide_type": "fragment"
    }
   },
   "source": [
    "First we made a transformation on the LoanStatus variable to focus only on the categories of interest from a risk prespective.\n",
    "- all statuses that indicate a non performing loan was grouped under the category NPL (including the ones with DPD of 90+)\n",
    "- statuses that indicate performing loans were grouped under the category PL\n",
    "- the ones with DPD (from 1 day up to 90 days) are in the DPD group"
   ]
  },
  {
   "cell_type": "markdown",
   "metadata": {
    "hideCode": false,
    "hidePrompt": false,
    "slideshow": {
     "slide_type": "subslide"
    }
   },
   "source": [
    "**Check the distribution of NPL**"
   ]
  },
  {
   "cell_type": "code",
   "execution_count": 41,
   "metadata": {
    "hideCode": false,
    "hidePrompt": false,
    "scrolled": false,
    "slideshow": {
     "slide_type": "fragment"
    }
   },
   "outputs": [
    {
     "data": {
      "image/png": "[encoded data removed]",
      "text/plain": [
       "<Figure size 720x360 with 1 Axes>"
      ]
     },
     "metadata": {
      "needs_background": "light"
     },
     "output_type": "display_data"
    }
   ],
   "source": [
    "#check the distribution of our main variable of interest and plot percentages on bars\n",
    "plt.figure(figsize=[10, 5])\n",
    "color_blue = sb.color_palette()[0]\n",
    "sb.countplot(data = df_clean, x = 'NPL', color = color_blue)\n",
    "plt.title('Loan Status')\n",
    "plt.xlabel('Loan status groups'),plt.ylabel('Frequency')\n",
    "sb.despine()\n",
    "types = df_clean.NPL.value_counts()\n",
    "for i in range(types.shape[0]):\n",
    "    type_count = types[i]\n",
    "    pct = 100*type_count/df_clean.NPL.count()\n",
    "    pct_string = f'{pct:0.1f} %'\n",
    "    plt.text(i, type_count+4500, pct_string, ha='center', va='top')\n",
    "\n",
    "plt.tight_layout();"
   ]
  },
  {
   "cell_type": "markdown",
   "metadata": {
    "hideCode": false,
    "hidePrompt": false,
    "slideshow": {
     "slide_type": "fragment"
    }
   },
   "source": [
    "We can see that most prosper's customers are performing, but about 15% are nonperforming which is high as a credit risk standard.  \n",
    "  \n",
    "During further analysis we will drop the DPD category as it's not needed in our scope."
   ]
  },
  {
   "cell_type": "code",
   "execution_count": 10,
   "metadata": {
    "hideCode": false,
    "hidePrompt": false,
    "slideshow": {
     "slide_type": "skip"
    }
   },
   "outputs": [],
   "source": [
    "#create dataframe for analysis after variable transformations\n",
    "df_analysis = pd.DataFrame()"
   ]
  },
  {
   "cell_type": "code",
   "execution_count": 11,
   "metadata": {
    "hideCode": false,
    "hidePrompt": false,
    "slideshow": {
     "slide_type": "skip"
    }
   },
   "outputs": [],
   "source": [
    "#we will drop the DPD category as it's not needed in the scope of our analysis and add the variable to new df\n",
    "npl_type = CategoricalDtype(categories=['PL','NPL'], ordered=True)\n",
    "df_analysis['NPL'] = df_clean.query('NPL != \"DPD\"')['NPL'].astype(npl_type)"
   ]
  },
  {
   "cell_type": "markdown",
   "metadata": {
    "hideCode": false,
    "hidePrompt": false,
    "slideshow": {
     "slide_type": "slide"
    }
   },
   "source": [
    "**Borrower APR**"
   ]
  },
  {
   "cell_type": "code",
   "execution_count": 12,
   "metadata": {
    "hideCode": false,
    "hidePrompt": false,
    "scrolled": false,
    "slideshow": {
     "slide_type": "fragment"
    }
   },
   "outputs": [
    {
     "data": {
      "image/png": "[encoded data removed]",
      "text/plain": [
       "<Figure size 720x396 with 1 Axes>"
      ]
     },
     "metadata": {
      "needs_background": "light"
     },
     "output_type": "display_data"
    }
   ],
   "source": [
    "plt.figure(figsize=[10, 5.5])\n",
    "\n",
    "df_clean.BorrowerAPR.plot.hist()\n",
    "ticks = plt.xticks()[0][1:-1]\n",
    "plt.xticks(ticks,labels=[f'{x*100:.0f}%' for x in ticks])\n",
    "plt.xlabel('Borrower annual rate')\n",
    "plt.title('Borrower annual rate %')\n",
    "plt.tight_layout();"
   ]
  },
  {
   "cell_type": "markdown",
   "metadata": {
    "hideCode": false,
    "hidePrompt": false,
    "slideshow": {
     "slide_type": "fragment"
    }
   },
   "source": [
    "From the get go we get a well defined distribution with a peak at about 20% and a slight skew to the right."
   ]
  },
  {
   "cell_type": "code",
   "execution_count": 13,
   "metadata": {
    "hideCode": false,
    "hidePrompt": false,
    "scrolled": false,
    "slideshow": {
     "slide_type": "skip"
    }
   },
   "outputs": [],
   "source": [
    "df_analysis = df_analysis.join(df['BorrowerAPR'],how='inner')"
   ]
  },
  {
   "cell_type": "markdown",
   "metadata": {
    "hideCode": false,
    "hidePrompt": false,
    "slideshow": {
     "slide_type": "slide"
    }
   },
   "source": [
    "**Credit Score Range**  \n",
    "This variable describes the upper and lower bound of Credit Score range assigned by external rating agency."
   ]
  },
  {
   "cell_type": "code",
   "execution_count": 14,
   "metadata": {
    "hideCode": false,
    "hidePrompt": false,
    "scrolled": false,
    "slideshow": {
     "slide_type": "subslide"
    }
   },
   "outputs": [
    {
     "data": {
      "image/png": "[encoded data removed]",
      "text/plain": [
       "<Figure size 720x396 with 2 Axes>"
      ]
     },
     "metadata": {
      "needs_background": "light"
     },
     "output_type": "display_data"
    }
   ],
   "source": [
    "x = df_clean.CreditScoreRangeLower.apply(lambda x: str(x).split('.')[0])\n",
    "y = df_clean.CreditScoreRangeUpper.apply(lambda x: str(x).split('.')[0])\n",
    "z = x + ' - ' + y\n",
    "z.loc[(z == 'nan - nan')] = 'No score'\n",
    "z_order = z.value_counts().sort_index().index\n",
    "\n",
    "f, (ax1, ax2) = plt.subplots(1, 2, gridspec_kw={'width_ratios': [4, 1]},\n",
    "                             figsize=[10, 5.5],\n",
    "                             tight_layout={'w_pad':2})\n",
    "\n",
    "sb.countplot(ax=ax1, x=z, order=z_order,color=color_blue)\n",
    "ax1.tick_params(axis='x', labelrotation=60)\n",
    "ax1.set_ylabel('Frequency')\n",
    "ax1.set_xlabel('Credit score Range')\n",
    "ax1.set_title('Credit Score Distribution');\n",
    "\n",
    "sb.boxplot(ax=ax2,data=df_clean, y='CreditScoreRangeLower')\n",
    "ax2.set_ylabel('Score')\n",
    "ax2.set_title('Credit Score boxplot');"
   ]
  },
  {
   "cell_type": "markdown",
   "metadata": {
    "hideCode": false,
    "hidePrompt": false,
    "slideshow": {
     "slide_type": "fragment"
    }
   },
   "source": [
    "the countplot shows a nice distribution chart but appears to have tails to the right and left,  \n",
    "using a boxplot to check for outliers visually, the points outside the whiskers can be considered outliers."
   ]
  },
  {
   "cell_type": "markdown",
   "metadata": {
    "slideshow": {
     "slide_type": "fragment"
    }
   },
   "source": [
    "We will drop the outliers and have a look at both charts again."
   ]
  },
  {
   "cell_type": "code",
   "execution_count": 15,
   "metadata": {
    "hideCode": false,
    "hidePrompt": false,
    "scrolled": false,
    "slideshow": {
     "slide_type": "subslide"
    }
   },
   "outputs": [
    {
     "data": {
      "image/png": "[encoded data removed]",
      "text/plain": [
       "<Figure size 720x396 with 2 Axes>"
      ]
     },
     "metadata": {
      "needs_background": "light"
     },
     "output_type": "display_data"
    }
   ],
   "source": [
    "temp = df_clean.query('CreditScoreRangeLower > 560 and CreditScoreRangeLower < 820 ')\n",
    "x = temp.CreditScoreRangeLower.apply(lambda x: str(x).split('.')[0])\n",
    "y = temp.CreditScoreRangeUpper.apply(lambda x: str(x).split('.')[0])\n",
    "z = x + ' - ' + y\n",
    "z.loc[(z == 'nan - nan')] = 'No score'\n",
    "z_order = z.value_counts().sort_index().index\n",
    "\n",
    "\n",
    "f, (ax1, ax2) = plt.subplots(1, 2, gridspec_kw={'width_ratios': [4, 1]},\n",
    "                             figsize=[10, 5.5],\n",
    "                             tight_layout={'w_pad':2})\n",
    "\n",
    "\n",
    "sb.countplot(ax=ax1, x=z, order=z_order,color=color_blue)\n",
    "ax1.tick_params(axis='x', labelrotation=60)\n",
    "ax1.set_ylabel('Frequency')\n",
    "ax1.set_xlabel('Credit score Range')\n",
    "ax1.set_title('Credit Score Distribution');\n",
    "\n",
    "sb.boxplot(ax=ax2, data=temp, y='CreditScoreRangeLower')\n",
    "ax2.set_ylabel('Score')\n",
    "ax2.set_title('Credit Score boxplot');"
   ]
  },
  {
   "cell_type": "markdown",
   "metadata": {
    "hideCode": false,
    "hidePrompt": false,
    "slideshow": {
     "slide_type": "fragment"
    }
   },
   "source": [
    "The points with no rating were dropped and by examining the box plot we also dropped the outlier values.  \n",
    "The remaining points had a fairly normal distribution with the center around the 700 score."
   ]
  },
  {
   "cell_type": "code",
   "execution_count": 16,
   "metadata": {
    "hideCode": false,
    "hidePrompt": false,
    "slideshow": {
     "slide_type": "skip"
    }
   },
   "outputs": [],
   "source": [
    "score_type = CategoricalDtype(categories=z_order , ordered=True)"
   ]
  },
  {
   "cell_type": "code",
   "execution_count": 17,
   "metadata": {
    "hideCode": false,
    "hidePrompt": false,
    "slideshow": {
     "slide_type": "skip"
    }
   },
   "outputs": [],
   "source": [
    "z.rename('CreditScoreRange', inplace=True)\n",
    "df_analysis = df_analysis.join(z.astype(score_type), how='inner')"
   ]
  },
  {
   "cell_type": "markdown",
   "metadata": {
    "hideCode": false,
    "hidePrompt": false,
    "slideshow": {
     "slide_type": "slide"
    }
   },
   "source": [
    "### Summary of Univariate Analysis"
   ]
  },
  {
   "cell_type": "markdown",
   "metadata": {
    "hideCode": false,
    "hidePrompt": false,
    "slideshow": {
     "slide_type": "subslide"
    }
   },
   "source": [
    "**LoanStatus**  \n",
    "First we made a transformation on the LoanStatus variable to focus only on the categories of interest from a risk prespective.  \n",
    "<li>all statuses that indicate a non performing loan was grouped under the category NPL (including the ones with DPD of 90+)\n",
    "<li>statuses that indicate performing loans were grouped under the category PL\n",
    "<li>the ones with DPD (from 1 day up to 90 days) are in the DPD group"
   ]
  },
  {
   "cell_type": "markdown",
   "metadata": {
    "hideCode": false,
    "hidePrompt": false,
    "slideshow": {
     "slide_type": "fragment"
    }
   },
   "source": [
    "We can see that most prosper's customers are performing, but about 15% are nonperforming which is high as a credit risk standard. "
   ]
  },
  {
   "cell_type": "markdown",
   "metadata": {
    "hideCode": false,
    "hidePrompt": false,
    "slideshow": {
     "slide_type": "fragment"
    }
   },
   "source": [
    "During further analysis we will drop the DPD category as it's not needed in our scope"
   ]
  },
  {
   "cell_type": "markdown",
   "metadata": {
    "hideCode": false,
    "hidePrompt": false,
    "slideshow": {
     "slide_type": "subslide"
    }
   },
   "source": [
    "**Borrower Annual percentage rate (APR)**  \n",
    "From the get go we get a well defined distribution with a peak at about 20% and a slight skew to the right."
   ]
  },
  {
   "cell_type": "markdown",
   "metadata": {
    "hideCode": false,
    "hidePrompt": false,
    "slideshow": {
     "slide_type": "subslide"
    }
   },
   "source": [
    "**Credit Score Range**  \n",
    "The variable indicates the credit score by a consumer rating agency, the upper and lower columns were merged to form a categorical range variable.  \n",
    "the points with no rating were dropped and by examining the box plot we also dropped the outlier values.  \n",
    "The remaining points had a fairly normal distribution with the center around the 700 score."
   ]
  },
  {
   "cell_type": "markdown",
   "metadata": {
    "hideCode": false,
    "hidePrompt": false,
    "slideshow": {
     "slide_type": "slide"
    }
   },
   "source": [
    "## Bivariate Exploration"
   ]
  },
  {
   "cell_type": "markdown",
   "metadata": {
    "slideshow": {
     "slide_type": "fragment"
    }
   },
   "source": [
    "In this section we take a look at the relation between our selected variables and our variable of interest (NPL)."
   ]
  },
  {
   "cell_type": "code",
   "execution_count": 18,
   "metadata": {
    "hideCode": false,
    "hidePrompt": false,
    "slideshow": {
     "slide_type": "skip"
    }
   },
   "outputs": [],
   "source": [
    "#create code columns for categorical variables to allow for calculating correlation\n",
    "for var in df_analysis.columns:\n",
    "    if df_analysis[var].dtype.name == 'category':\n",
    "        df_analysis[f'{var}_codes'] = df_analysis[var].cat.codes"
   ]
  },
  {
   "cell_type": "code",
   "execution_count": 19,
   "metadata": {
    "hideCode": false,
    "hidePrompt": false,
    "slideshow": {
     "slide_type": "skip"
    }
   },
   "outputs": [],
   "source": [
    "NPL_corr = df_analysis.corr()['NPL_codes']"
   ]
  },
  {
   "cell_type": "markdown",
   "metadata": {
    "hideCode": false,
    "hidePrompt": false,
    "slideshow": {
     "slide_type": "slide"
    }
   },
   "source": [
    "**Borrower Annual percentage rate (APR)**"
   ]
  },
  {
   "cell_type": "code",
   "execution_count": 20,
   "metadata": {
    "hideCode": false,
    "hidePrompt": false,
    "scrolled": false,
    "slideshow": {
     "slide_type": "fragment"
    }
   },
   "outputs": [
    {
     "data": {
      "image/png": "[encoded data removed]",
      "text/plain": [
       "<Figure size 720x396 with 1 Axes>"
      ]
     },
     "metadata": {
      "needs_background": "light"
     },
     "output_type": "display_data"
    }
   ],
   "source": [
    "plt.figure(figsize=[10, 5.5])\n",
    "sb.pointplot(data=df_analysis, x='NPL', y='BorrowerAPR', color=color_blue, join=False)\n",
    "ticks = plt.yticks()[0]\n",
    "plt.yticks(ticks,labels=[f'{x*100:.0f}%' for x in ticks])\n",
    "plt.xlabel('Loan Status groups')\n",
    "plt.ylabel('Borrower annual rate %')\n",
    "plt.title('Annual rate comparison between PL and NPL')\n",
    "plt.tight_layout();"
   ]
  },
  {
   "cell_type": "markdown",
   "metadata": {
    "hideCode": false,
    "hidePrompt": false,
    "slideshow": {
     "slide_type": "fragment"
    }
   },
   "source": [
    "We can see from the chart that the annual rate is higher for customers in the NPL group due to them being rated in higher risk which entails higher rates."
   ]
  },
  {
   "cell_type": "markdown",
   "metadata": {
    "hideCode": false,
    "hidePrompt": false,
    "slideshow": {
     "slide_type": "slide"
    }
   },
   "source": [
    "**Credit Score Range**"
   ]
  },
  {
   "cell_type": "code",
   "execution_count": 34,
   "metadata": {
    "hideCode": false,
    "hidePrompt": false,
    "scrolled": false,
    "slideshow": {
     "slide_type": "fragment"
    }
   },
   "outputs": [
    {
     "data": {
      "image/png": "[encoded data removed]",
      "text/plain": [
       "<Figure size 604.8x403.2 with 2 Axes>"
      ]
     },
     "metadata": {
      "needs_background": "light"
     },
     "output_type": "display_data"
    }
   ],
   "source": [
    "(sb.catplot(data=df_analysis, x='CreditScoreRange', col='NPL', kind='count', col_wrap=1,\n",
    "           color=color_blue,sharey=False, height=2.8, aspect=3)\n",
    " .set_axis_labels('Credit Score Range', 'Frequency'))\n",
    "plt.suptitle('Credit Score Range countplot', y=1.03)\n",
    "plt.xticks(rotation=60)\n",
    "plt.tight_layout();"
   ]
  },
  {
   "cell_type": "markdown",
   "metadata": {
    "hideCode": false,
    "hidePrompt": false,
    "slideshow": {
     "slide_type": "fragment"
    }
   },
   "source": [
    "The Credit Score Range is obtained from external rating agencies and shows a weak relation with the NPL status of the loan."
   ]
  },
  {
   "cell_type": "markdown",
   "metadata": {
    "slideshow": {
     "slide_type": "slide"
    }
   },
   "source": [
    "### Summary of Bivariate Analysis"
   ]
  },
  {
   "cell_type": "markdown",
   "metadata": {
    "hideCode": false,
    "hidePrompt": false,
    "slideshow": {
     "slide_type": "fragment"
    }
   },
   "source": [
    "- The annual rate is higher for customers in the NPL group due to them being rated in higher risk which entails higher rates"
   ]
  },
  {
   "cell_type": "markdown",
   "metadata": {
    "hideCode": false,
    "hidePrompt": false,
    "slideshow": {
     "slide_type": "fragment"
    }
   },
   "source": [
    "- Credit Score Range is obtained from external rating agencies and shows a weak relation with the NPL status of the "
   ]
  },
  {
   "cell_type": "markdown",
   "metadata": {
    "hideCode": false,
    "hidePrompt": false,
    "slideshow": {
     "slide_type": "slide"
    }
   },
   "source": [
    "## Multivariate Analysis"
   ]
  },
  {
   "cell_type": "markdown",
   "metadata": {
    "slideshow": {
     "slide_type": "fragment"
    }
   },
   "source": [
    "In this section we visualize the relation between three variables together"
   ]
  },
  {
   "cell_type": "code",
   "execution_count": 30,
   "metadata": {
    "hideCode": false,
    "hidePrompt": false,
    "scrolled": false,
    "slideshow": {
     "slide_type": "slide"
    }
   },
   "outputs": [
    {
     "data": {
      "image/png": "[encoded data removed]",
      "text/plain": [
       "<Figure size 811x302.4 with 1 Axes>"
      ]
     },
     "metadata": {
      "needs_background": "light"
     },
     "output_type": "display_data"
    }
   ],
   "source": [
    "(sb.catplot(data=df_analysis, hue='NPL', y='BorrowerAPR', x='CreditScoreRange', kind='box',\n",
    "            sharey=True, height=4.2, aspect=2.5,\n",
    "           )\n",
    " .set_axis_labels('Credit Score Range','Borrower annual rate %')\n",
    ")\n",
    "plt.suptitle('Comparison of borrower rates with score ranges between PL and NPL', y=1.03)\n",
    "plt.xticks(rotation=60)\n",
    "ticks = plt.yticks()[0][1:-1]\n",
    "plt.yticks(ticks,labels=[f'{x*100:.0f}%' for x in ticks])\n",
    "plt.show()"
   ]
  },
  {
   "cell_type": "markdown",
   "metadata": {
    "hideCode": false,
    "hidePrompt": false,
    "slideshow": {
     "slide_type": "fragment"
    }
   },
   "source": [
    "**The relation between <u>Score ranges</u> and the <u>charged annual rate</u> across the categories of <u>PL and NPL</u> (our variable of interest).**  \n",
    "<li>It shows how customers with higher scores are generally charged lower annual rates.  \n",
    "<li>Within each score range, the ones who are performing (PL) are charged rates lower than those who are NPL (as shown by the median of each box) especially in the higher score categories"
   ]
  }
 ],
 "metadata": {
  "celltoolbar": "Slideshow",
  "hide_code_all_hidden": false,
  "kernelspec": {
   "display_name": "Python 3",
   "language": "python",
   "name": "python3"
  },
  "language_info": {
   "codemirror_mode": {
    "name": "ipython",
    "version": 3
   },
   "file_extension": ".py",
   "mimetype": "text/x-python",
   "name": "python",
   "nbconvert_exporter": "python",
   "pygments_lexer": "ipython3",
   "version": "3.8.6"
  }
 },
 "nbformat": 4,
 "nbformat_minor": 2
}
